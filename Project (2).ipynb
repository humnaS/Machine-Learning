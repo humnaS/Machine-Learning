{
 "cells": [
  {
   "cell_type": "code",
   "execution_count": 1,
   "metadata": {},
   "outputs": [],
   "source": [
    "import numpy as np\n",
    "import pandas as pd\n",
    "import matplotlib.pyplot as plt\n",
    "import datetime\n",
    "import seaborn as sns\n",
    "from datetime import datetime\n",
    "from matplotlib.pyplot import figure"
   ]
  },
  {
   "cell_type": "code",
   "execution_count": 2,
   "metadata": {},
   "outputs": [],
   "source": [
    "data=pd.read_excel('./FDD DataSet Dashboard - Copy.xlsx',sheet_name=\"Sheet2\")"
   ]
  },
  {
   "cell_type": "code",
   "execution_count": 328,
   "metadata": {},
   "outputs": [
    {
     "name": "stdout",
     "output_type": "stream",
     "text": [
      "1.0.1\n"
     ]
    }
   ],
   "source": [
    "print(pd.__version__)"
   ]
  },
  {
   "cell_type": "code",
   "execution_count": 329,
   "metadata": {},
   "outputs": [
    {
     "data": {
      "text/plain": [
       "(744, 35)"
      ]
     },
     "execution_count": 329,
     "metadata": {},
     "output_type": "execute_result"
    }
   ],
   "source": [
    "data.shape"
   ]
  },
  {
   "cell_type": "code",
   "execution_count": 330,
   "metadata": {},
   "outputs": [
    {
     "name": "stderr",
     "output_type": "stream",
     "text": [
      "C:\\Users\\Mahad Khan\\AppData\\Roaming\\Python\\Python37\\site-packages\\numpy\\lib\\histograms.py:839: RuntimeWarning: invalid value encountered in greater_equal\n",
      "  keep = (tmp_a >= first_edge)\n",
      "C:\\Users\\Mahad Khan\\AppData\\Roaming\\Python\\Python37\\site-packages\\numpy\\lib\\histograms.py:840: RuntimeWarning: invalid value encountered in less_equal\n",
      "  keep &= (tmp_a <= last_edge)\n"
     ]
    },
    {
     "data": {
      "image/png": "[encoded data removed]",
      "text/plain": [
       "<Figure size 432x288 with 1 Axes>"
      ]
     },
     "metadata": {
      "needs_background": "light"
     },
     "output_type": "display_data"
    }
   ],
   "source": [
    "plt.hist(data['CHW Tin, C'],bins=10)\n",
    "plt.show()"
   ]
  },
  {
   "cell_type": "code",
   "execution_count": 331,
   "metadata": {},
   "outputs": [
    {
     "data": {
      "text/html": [
       "<div>\n",
       "<style scoped>\n",
       "    .dataframe tbody tr th:only-of-type {\n",
       "        vertical-align: middle;\n",
       "    }\n",
       "\n",
       "    .dataframe tbody tr th {\n",
       "        vertical-align: top;\n",
       "    }\n",
       "\n",
       "    .dataframe thead th {\n",
       "        text-align: right;\n",
       "    }\n",
       "</style>\n",
       "<table border=\"1\" class=\"dataframe\">\n",
       "  <thead>\n",
       "    <tr style=\"text-align: right;\">\n",
       "      <th></th>\n",
       "      <th>Date</th>\n",
       "      <th>CHW Tin, C</th>\n",
       "      <th>CHW Tout, C</th>\n",
       "      <th>CHW Valve Position, %</th>\n",
       "      <th>CHW FR, L/s</th>\n",
       "      <th>SA Fan Frequency, Hz</th>\n",
       "      <th>RA Fan Frequency, Hz</th>\n",
       "      <th>SA T, C</th>\n",
       "      <th>SA FR, L/s</th>\n",
       "      <th>RA FR, L/s</th>\n",
       "      <th>...</th>\n",
       "      <th>DIVERSITY, %</th>\n",
       "      <th>OCCUPANCY,  %</th>\n",
       "      <th>CHW Valve Open Position</th>\n",
       "      <th>CHW Valve Close Position</th>\n",
       "      <th>SA Fan Maximum Speed Frequency</th>\n",
       "      <th>SA Fan Minimum Speed Frequency</th>\n",
       "      <th>SA Fan Maximum Flow Rate</th>\n",
       "      <th>SA Fan Minimum Flow Rate</th>\n",
       "      <th>OA Damper Minimum Position</th>\n",
       "      <th>OA Damper Maximum Position</th>\n",
       "    </tr>\n",
       "  </thead>\n",
       "  <tbody>\n",
       "    <tr>\n",
       "      <th>0</th>\n",
       "      <td>2020-02-21 23:53:11.660000</td>\n",
       "      <td>6.0</td>\n",
       "      <td>11.0</td>\n",
       "      <td>20.0</td>\n",
       "      <td>21.0</td>\n",
       "      <td>58.0</td>\n",
       "      <td>47.0</td>\n",
       "      <td>13.0</td>\n",
       "      <td>609.0</td>\n",
       "      <td>609.0</td>\n",
       "      <td>...</td>\n",
       "      <td>NaN</td>\n",
       "      <td>NaN</td>\n",
       "      <td>NaN</td>\n",
       "      <td>NaN</td>\n",
       "      <td>NaN</td>\n",
       "      <td>NaN</td>\n",
       "      <td>NaN</td>\n",
       "      <td>NaN</td>\n",
       "      <td>NaN</td>\n",
       "      <td>NaN</td>\n",
       "    </tr>\n",
       "    <tr>\n",
       "      <th>1</th>\n",
       "      <td>2020-02-20 23:53:11.660000</td>\n",
       "      <td>6.0</td>\n",
       "      <td>13.0</td>\n",
       "      <td>98.0</td>\n",
       "      <td>181.0</td>\n",
       "      <td>46.0</td>\n",
       "      <td>44.0</td>\n",
       "      <td>12.0</td>\n",
       "      <td>769.0</td>\n",
       "      <td>554.0</td>\n",
       "      <td>...</td>\n",
       "      <td>NaN</td>\n",
       "      <td>NaN</td>\n",
       "      <td>NaN</td>\n",
       "      <td>NaN</td>\n",
       "      <td>NaN</td>\n",
       "      <td>NaN</td>\n",
       "      <td>NaN</td>\n",
       "      <td>NaN</td>\n",
       "      <td>NaN</td>\n",
       "      <td>NaN</td>\n",
       "    </tr>\n",
       "    <tr>\n",
       "      <th>2</th>\n",
       "      <td>2020-02-19 23:53:11.660000</td>\n",
       "      <td>6.0</td>\n",
       "      <td>12.0</td>\n",
       "      <td>99.0</td>\n",
       "      <td>190.0</td>\n",
       "      <td>46.0</td>\n",
       "      <td>45.0</td>\n",
       "      <td>12.0</td>\n",
       "      <td>729.0</td>\n",
       "      <td>623.0</td>\n",
       "      <td>...</td>\n",
       "      <td>NaN</td>\n",
       "      <td>NaN</td>\n",
       "      <td>NaN</td>\n",
       "      <td>NaN</td>\n",
       "      <td>NaN</td>\n",
       "      <td>NaN</td>\n",
       "      <td>NaN</td>\n",
       "      <td>NaN</td>\n",
       "      <td>NaN</td>\n",
       "      <td>NaN</td>\n",
       "    </tr>\n",
       "    <tr>\n",
       "      <th>3</th>\n",
       "      <td>2020-02-18 23:53:11.660000</td>\n",
       "      <td>7.0</td>\n",
       "      <td>13.0</td>\n",
       "      <td>17.0</td>\n",
       "      <td>96.0</td>\n",
       "      <td>48.0</td>\n",
       "      <td>46.0</td>\n",
       "      <td>13.0</td>\n",
       "      <td>741.0</td>\n",
       "      <td>532.0</td>\n",
       "      <td>...</td>\n",
       "      <td>NaN</td>\n",
       "      <td>NaN</td>\n",
       "      <td>NaN</td>\n",
       "      <td>NaN</td>\n",
       "      <td>NaN</td>\n",
       "      <td>NaN</td>\n",
       "      <td>NaN</td>\n",
       "      <td>NaN</td>\n",
       "      <td>NaN</td>\n",
       "      <td>NaN</td>\n",
       "    </tr>\n",
       "    <tr>\n",
       "      <th>4</th>\n",
       "      <td>2020-02-17 23:53:11.660000</td>\n",
       "      <td>6.0</td>\n",
       "      <td>13.0</td>\n",
       "      <td>28.0</td>\n",
       "      <td>36.0</td>\n",
       "      <td>52.0</td>\n",
       "      <td>47.0</td>\n",
       "      <td>13.0</td>\n",
       "      <td>735.0</td>\n",
       "      <td>420.0</td>\n",
       "      <td>...</td>\n",
       "      <td>NaN</td>\n",
       "      <td>NaN</td>\n",
       "      <td>NaN</td>\n",
       "      <td>NaN</td>\n",
       "      <td>NaN</td>\n",
       "      <td>NaN</td>\n",
       "      <td>NaN</td>\n",
       "      <td>NaN</td>\n",
       "      <td>NaN</td>\n",
       "      <td>NaN</td>\n",
       "    </tr>\n",
       "    <tr>\n",
       "      <th>...</th>\n",
       "      <td>...</td>\n",
       "      <td>...</td>\n",
       "      <td>...</td>\n",
       "      <td>...</td>\n",
       "      <td>...</td>\n",
       "      <td>...</td>\n",
       "      <td>...</td>\n",
       "      <td>...</td>\n",
       "      <td>...</td>\n",
       "      <td>...</td>\n",
       "      <td>...</td>\n",
       "      <td>...</td>\n",
       "      <td>...</td>\n",
       "      <td>...</td>\n",
       "      <td>...</td>\n",
       "      <td>...</td>\n",
       "      <td>...</td>\n",
       "      <td>...</td>\n",
       "      <td>...</td>\n",
       "      <td>...</td>\n",
       "      <td>...</td>\n",
       "    </tr>\n",
       "    <tr>\n",
       "      <th>739</th>\n",
       "      <td>AHU#1</td>\n",
       "      <td>NaN</td>\n",
       "      <td>NaN</td>\n",
       "      <td>NaN</td>\n",
       "      <td>NaN</td>\n",
       "      <td>NaN</td>\n",
       "      <td>NaN</td>\n",
       "      <td>NaN</td>\n",
       "      <td>NaN</td>\n",
       "      <td>NaN</td>\n",
       "      <td>...</td>\n",
       "      <td>NaN</td>\n",
       "      <td>NaN</td>\n",
       "      <td>NaN</td>\n",
       "      <td>NaN</td>\n",
       "      <td>NaN</td>\n",
       "      <td>NaN</td>\n",
       "      <td>NaN</td>\n",
       "      <td>NaN</td>\n",
       "      <td>NaN</td>\n",
       "      <td>NaN</td>\n",
       "    </tr>\n",
       "    <tr>\n",
       "      <th>740</th>\n",
       "      <td>Maximum</td>\n",
       "      <td>8.0</td>\n",
       "      <td>13.0</td>\n",
       "      <td>100.0</td>\n",
       "      <td>200.0</td>\n",
       "      <td>60.0</td>\n",
       "      <td>60.0</td>\n",
       "      <td>13.8</td>\n",
       "      <td>1000.0</td>\n",
       "      <td>800.0</td>\n",
       "      <td>...</td>\n",
       "      <td>NaN</td>\n",
       "      <td>NaN</td>\n",
       "      <td>NaN</td>\n",
       "      <td>NaN</td>\n",
       "      <td>NaN</td>\n",
       "      <td>NaN</td>\n",
       "      <td>NaN</td>\n",
       "      <td>NaN</td>\n",
       "      <td>NaN</td>\n",
       "      <td>NaN</td>\n",
       "    </tr>\n",
       "    <tr>\n",
       "      <th>741</th>\n",
       "      <td>Norm</td>\n",
       "      <td>1.0</td>\n",
       "      <td>1.0</td>\n",
       "      <td>50.0</td>\n",
       "      <td>100.0</td>\n",
       "      <td>10.0</td>\n",
       "      <td>10.0</td>\n",
       "      <td>1.0</td>\n",
       "      <td>200.0</td>\n",
       "      <td>200.0</td>\n",
       "      <td>...</td>\n",
       "      <td>NaN</td>\n",
       "      <td>NaN</td>\n",
       "      <td>NaN</td>\n",
       "      <td>NaN</td>\n",
       "      <td>NaN</td>\n",
       "      <td>NaN</td>\n",
       "      <td>NaN</td>\n",
       "      <td>NaN</td>\n",
       "      <td>NaN</td>\n",
       "      <td>NaN</td>\n",
       "    </tr>\n",
       "    <tr>\n",
       "      <th>742</th>\n",
       "      <td>Minimum</td>\n",
       "      <td>6.0</td>\n",
       "      <td>11.0</td>\n",
       "      <td>0.0</td>\n",
       "      <td>0.0</td>\n",
       "      <td>40.0</td>\n",
       "      <td>40.0</td>\n",
       "      <td>11.8</td>\n",
       "      <td>600.0</td>\n",
       "      <td>400.0</td>\n",
       "      <td>...</td>\n",
       "      <td>NaN</td>\n",
       "      <td>NaN</td>\n",
       "      <td>NaN</td>\n",
       "      <td>NaN</td>\n",
       "      <td>NaN</td>\n",
       "      <td>NaN</td>\n",
       "      <td>NaN</td>\n",
       "      <td>NaN</td>\n",
       "      <td>NaN</td>\n",
       "      <td>NaN</td>\n",
       "    </tr>\n",
       "    <tr>\n",
       "      <th>743</th>\n",
       "      <td>Specification</td>\n",
       "      <td>7.0</td>\n",
       "      <td>12.0</td>\n",
       "      <td>50.0</td>\n",
       "      <td>100.0</td>\n",
       "      <td>50.0</td>\n",
       "      <td>50.0</td>\n",
       "      <td>12.8</td>\n",
       "      <td>800.0</td>\n",
       "      <td>600.0</td>\n",
       "      <td>...</td>\n",
       "      <td>NaN</td>\n",
       "      <td>NaN</td>\n",
       "      <td>NaN</td>\n",
       "      <td>NaN</td>\n",
       "      <td>NaN</td>\n",
       "      <td>NaN</td>\n",
       "      <td>NaN</td>\n",
       "      <td>NaN</td>\n",
       "      <td>NaN</td>\n",
       "      <td>NaN</td>\n",
       "    </tr>\n",
       "  </tbody>\n",
       "</table>\n",
       "<p>744 rows × 35 columns</p>\n",
       "</div>"
      ],
      "text/plain": [
       "                           Date  CHW Tin, C  CHW Tout, C  \\\n",
       "0    2020-02-21 23:53:11.660000         6.0         11.0   \n",
       "1    2020-02-20 23:53:11.660000         6.0         13.0   \n",
       "2    2020-02-19 23:53:11.660000         6.0         12.0   \n",
       "3    2020-02-18 23:53:11.660000         7.0         13.0   \n",
       "4    2020-02-17 23:53:11.660000         6.0         13.0   \n",
       "..                          ...         ...          ...   \n",
       "739                       AHU#1         NaN          NaN   \n",
       "740                     Maximum         8.0         13.0   \n",
       "741                        Norm         1.0          1.0   \n",
       "742                     Minimum         6.0         11.0   \n",
       "743               Specification         7.0         12.0   \n",
       "\n",
       "     CHW Valve Position, %  CHW FR, L/s  SA Fan Frequency, Hz  \\\n",
       "0                     20.0         21.0                  58.0   \n",
       "1                     98.0        181.0                  46.0   \n",
       "2                     99.0        190.0                  46.0   \n",
       "3                     17.0         96.0                  48.0   \n",
       "4                     28.0         36.0                  52.0   \n",
       "..                     ...          ...                   ...   \n",
       "739                    NaN          NaN                   NaN   \n",
       "740                  100.0        200.0                  60.0   \n",
       "741                   50.0        100.0                  10.0   \n",
       "742                    0.0          0.0                  40.0   \n",
       "743                   50.0        100.0                  50.0   \n",
       "\n",
       "     RA Fan Frequency, Hz  SA T, C  SA FR, L/s  RA FR, L/s  ...  DIVERSITY, %  \\\n",
       "0                    47.0     13.0       609.0       609.0  ...           NaN   \n",
       "1                    44.0     12.0       769.0       554.0  ...           NaN   \n",
       "2                    45.0     12.0       729.0       623.0  ...           NaN   \n",
       "3                    46.0     13.0       741.0       532.0  ...           NaN   \n",
       "4                    47.0     13.0       735.0       420.0  ...           NaN   \n",
       "..                    ...      ...         ...         ...  ...           ...   \n",
       "739                   NaN      NaN         NaN         NaN  ...           NaN   \n",
       "740                  60.0     13.8      1000.0       800.0  ...           NaN   \n",
       "741                  10.0      1.0       200.0       200.0  ...           NaN   \n",
       "742                  40.0     11.8       600.0       400.0  ...           NaN   \n",
       "743                  50.0     12.8       800.0       600.0  ...           NaN   \n",
       "\n",
       "     OCCUPANCY,  %  CHW Valve Open Position  CHW Valve Close Position  \\\n",
       "0              NaN                      NaN                       NaN   \n",
       "1              NaN                      NaN                       NaN   \n",
       "2              NaN                      NaN                       NaN   \n",
       "3              NaN                      NaN                       NaN   \n",
       "4              NaN                      NaN                       NaN   \n",
       "..             ...                      ...                       ...   \n",
       "739            NaN                      NaN                       NaN   \n",
       "740            NaN                      NaN                       NaN   \n",
       "741            NaN                      NaN                       NaN   \n",
       "742            NaN                      NaN                       NaN   \n",
       "743            NaN                      NaN                       NaN   \n",
       "\n",
       "     SA Fan Maximum Speed Frequency  SA Fan Minimum Speed Frequency  \\\n",
       "0                               NaN                             NaN   \n",
       "1                               NaN                             NaN   \n",
       "2                               NaN                             NaN   \n",
       "3                               NaN                             NaN   \n",
       "4                               NaN                             NaN   \n",
       "..                              ...                             ...   \n",
       "739                             NaN                             NaN   \n",
       "740                             NaN                             NaN   \n",
       "741                             NaN                             NaN   \n",
       "742                             NaN                             NaN   \n",
       "743                             NaN                             NaN   \n",
       "\n",
       "     SA Fan Maximum Flow Rate  SA Fan Minimum Flow Rate  \\\n",
       "0                         NaN                       NaN   \n",
       "1                         NaN                       NaN   \n",
       "2                         NaN                       NaN   \n",
       "3                         NaN                       NaN   \n",
       "4                         NaN                       NaN   \n",
       "..                        ...                       ...   \n",
       "739                       NaN                       NaN   \n",
       "740                       NaN                       NaN   \n",
       "741                       NaN                       NaN   \n",
       "742                       NaN                       NaN   \n",
       "743                       NaN                       NaN   \n",
       "\n",
       "     OA Damper Minimum Position  OA Damper Maximum Position  \n",
       "0                           NaN                         NaN  \n",
       "1                           NaN                         NaN  \n",
       "2                           NaN                         NaN  \n",
       "3                           NaN                         NaN  \n",
       "4                           NaN                         NaN  \n",
       "..                          ...                         ...  \n",
       "739                         NaN                         NaN  \n",
       "740                         NaN                         NaN  \n",
       "741                         NaN                         NaN  \n",
       "742                         NaN                         NaN  \n",
       "743                         NaN                         NaN  \n",
       "\n",
       "[744 rows x 35 columns]"
      ]
     },
     "execution_count": 331,
     "metadata": {},
     "output_type": "execute_result"
    }
   ],
   "source": [
    "data"
   ]
  },
  {
   "cell_type": "code",
   "execution_count": 333,
   "metadata": {},
   "outputs": [],
   "source": [
    "df=data.iloc[0:737,0:25] #separate all features"
   ]
  },
  {
   "cell_type": "code",
   "execution_count": 334,
   "metadata": {},
   "outputs": [
    {
     "data": {
      "text/html": [
       "<div>\n",
       "<style scoped>\n",
       "    .dataframe tbody tr th:only-of-type {\n",
       "        vertical-align: middle;\n",
       "    }\n",
       "\n",
       "    .dataframe tbody tr th {\n",
       "        vertical-align: top;\n",
       "    }\n",
       "\n",
       "    .dataframe thead th {\n",
       "        text-align: right;\n",
       "    }\n",
       "</style>\n",
       "<table border=\"1\" class=\"dataframe\">\n",
       "  <thead>\n",
       "    <tr style=\"text-align: right;\">\n",
       "      <th></th>\n",
       "      <th>Date</th>\n",
       "      <th>CHW Tin, C</th>\n",
       "      <th>CHW Tout, C</th>\n",
       "      <th>CHW Valve Position, %</th>\n",
       "      <th>CHW FR, L/s</th>\n",
       "      <th>SA Fan Frequency, Hz</th>\n",
       "      <th>RA Fan Frequency, Hz</th>\n",
       "      <th>SA T, C</th>\n",
       "      <th>SA FR, L/s</th>\n",
       "      <th>RA FR, L/s</th>\n",
       "      <th>...</th>\n",
       "      <th>OA FR, L/s</th>\n",
       "      <th>OA Damper Open, %</th>\n",
       "      <th>Space, CO2</th>\n",
       "      <th>Space RH, RH</th>\n",
       "      <th>Space T, C</th>\n",
       "      <th>OA T, C</th>\n",
       "      <th>OAT RH, RH</th>\n",
       "      <th>AHU COP</th>\n",
       "      <th>Total Power, KW</th>\n",
       "      <th>Norm Energy Monthly, Kw-Hr</th>\n",
       "    </tr>\n",
       "  </thead>\n",
       "  <tbody>\n",
       "    <tr>\n",
       "      <th>0</th>\n",
       "      <td>2020-02-21 23:53:11.660000</td>\n",
       "      <td>6.0</td>\n",
       "      <td>11.0</td>\n",
       "      <td>20.0</td>\n",
       "      <td>21.0</td>\n",
       "      <td>58.0</td>\n",
       "      <td>47.0</td>\n",
       "      <td>13.0</td>\n",
       "      <td>609.0</td>\n",
       "      <td>609.0</td>\n",
       "      <td>...</td>\n",
       "      <td>274.0</td>\n",
       "      <td>6.0</td>\n",
       "      <td>684.0</td>\n",
       "      <td>54.0</td>\n",
       "      <td>24.0</td>\n",
       "      <td>23.0</td>\n",
       "      <td>44.0</td>\n",
       "      <td>4.0</td>\n",
       "      <td>666.0</td>\n",
       "      <td>206838.0</td>\n",
       "    </tr>\n",
       "    <tr>\n",
       "      <th>1</th>\n",
       "      <td>2020-02-20 23:53:11.660000</td>\n",
       "      <td>6.0</td>\n",
       "      <td>13.0</td>\n",
       "      <td>98.0</td>\n",
       "      <td>181.0</td>\n",
       "      <td>46.0</td>\n",
       "      <td>44.0</td>\n",
       "      <td>12.0</td>\n",
       "      <td>769.0</td>\n",
       "      <td>554.0</td>\n",
       "      <td>...</td>\n",
       "      <td>276.0</td>\n",
       "      <td>23.0</td>\n",
       "      <td>766.0</td>\n",
       "      <td>54.0</td>\n",
       "      <td>24.0</td>\n",
       "      <td>35.0</td>\n",
       "      <td>36.0</td>\n",
       "      <td>3.0</td>\n",
       "      <td>631.0</td>\n",
       "      <td>205650.0</td>\n",
       "    </tr>\n",
       "    <tr>\n",
       "      <th>2</th>\n",
       "      <td>2020-02-19 23:53:11.660000</td>\n",
       "      <td>6.0</td>\n",
       "      <td>12.0</td>\n",
       "      <td>99.0</td>\n",
       "      <td>190.0</td>\n",
       "      <td>46.0</td>\n",
       "      <td>45.0</td>\n",
       "      <td>12.0</td>\n",
       "      <td>729.0</td>\n",
       "      <td>623.0</td>\n",
       "      <td>...</td>\n",
       "      <td>241.0</td>\n",
       "      <td>3.0</td>\n",
       "      <td>2017.0</td>\n",
       "      <td>63.0</td>\n",
       "      <td>22.0</td>\n",
       "      <td>23.0</td>\n",
       "      <td>39.0</td>\n",
       "      <td>3.0</td>\n",
       "      <td>941.0</td>\n",
       "      <td>218792.0</td>\n",
       "    </tr>\n",
       "    <tr>\n",
       "      <th>3</th>\n",
       "      <td>2020-02-18 23:53:11.660000</td>\n",
       "      <td>7.0</td>\n",
       "      <td>13.0</td>\n",
       "      <td>17.0</td>\n",
       "      <td>96.0</td>\n",
       "      <td>48.0</td>\n",
       "      <td>46.0</td>\n",
       "      <td>13.0</td>\n",
       "      <td>741.0</td>\n",
       "      <td>532.0</td>\n",
       "      <td>...</td>\n",
       "      <td>266.0</td>\n",
       "      <td>10.0</td>\n",
       "      <td>1787.0</td>\n",
       "      <td>53.0</td>\n",
       "      <td>23.0</td>\n",
       "      <td>30.0</td>\n",
       "      <td>49.0</td>\n",
       "      <td>2.0</td>\n",
       "      <td>878.0</td>\n",
       "      <td>216628.0</td>\n",
       "    </tr>\n",
       "    <tr>\n",
       "      <th>4</th>\n",
       "      <td>2020-02-17 23:53:11.660000</td>\n",
       "      <td>6.0</td>\n",
       "      <td>13.0</td>\n",
       "      <td>28.0</td>\n",
       "      <td>36.0</td>\n",
       "      <td>52.0</td>\n",
       "      <td>47.0</td>\n",
       "      <td>13.0</td>\n",
       "      <td>735.0</td>\n",
       "      <td>420.0</td>\n",
       "      <td>...</td>\n",
       "      <td>227.0</td>\n",
       "      <td>11.0</td>\n",
       "      <td>1655.0</td>\n",
       "      <td>39.0</td>\n",
       "      <td>22.0</td>\n",
       "      <td>27.0</td>\n",
       "      <td>65.0</td>\n",
       "      <td>2.0</td>\n",
       "      <td>919.0</td>\n",
       "      <td>198400.0</td>\n",
       "    </tr>\n",
       "    <tr>\n",
       "      <th>...</th>\n",
       "      <td>...</td>\n",
       "      <td>...</td>\n",
       "      <td>...</td>\n",
       "      <td>...</td>\n",
       "      <td>...</td>\n",
       "      <td>...</td>\n",
       "      <td>...</td>\n",
       "      <td>...</td>\n",
       "      <td>...</td>\n",
       "      <td>...</td>\n",
       "      <td>...</td>\n",
       "      <td>...</td>\n",
       "      <td>...</td>\n",
       "      <td>...</td>\n",
       "      <td>...</td>\n",
       "      <td>...</td>\n",
       "      <td>...</td>\n",
       "      <td>...</td>\n",
       "      <td>...</td>\n",
       "      <td>...</td>\n",
       "      <td>...</td>\n",
       "    </tr>\n",
       "    <tr>\n",
       "      <th>732</th>\n",
       "      <td>2018-02-19 23:53:11.660000</td>\n",
       "      <td>7.0</td>\n",
       "      <td>12.0</td>\n",
       "      <td>77.0</td>\n",
       "      <td>90.0</td>\n",
       "      <td>44.0</td>\n",
       "      <td>51.0</td>\n",
       "      <td>13.0</td>\n",
       "      <td>671.0</td>\n",
       "      <td>731.0</td>\n",
       "      <td>...</td>\n",
       "      <td>215.0</td>\n",
       "      <td>21.0</td>\n",
       "      <td>677.0</td>\n",
       "      <td>37.0</td>\n",
       "      <td>24.0</td>\n",
       "      <td>26.0</td>\n",
       "      <td>42.0</td>\n",
       "      <td>2.0</td>\n",
       "      <td>661.0</td>\n",
       "      <td>219735.0</td>\n",
       "    </tr>\n",
       "    <tr>\n",
       "      <th>733</th>\n",
       "      <td>2018-02-18 23:53:11.660000</td>\n",
       "      <td>7.0</td>\n",
       "      <td>13.0</td>\n",
       "      <td>76.0</td>\n",
       "      <td>62.0</td>\n",
       "      <td>43.0</td>\n",
       "      <td>40.0</td>\n",
       "      <td>12.0</td>\n",
       "      <td>671.0</td>\n",
       "      <td>468.0</td>\n",
       "      <td>...</td>\n",
       "      <td>203.0</td>\n",
       "      <td>6.0</td>\n",
       "      <td>721.0</td>\n",
       "      <td>43.0</td>\n",
       "      <td>22.0</td>\n",
       "      <td>33.0</td>\n",
       "      <td>61.0</td>\n",
       "      <td>1.0</td>\n",
       "      <td>672.0</td>\n",
       "      <td>201625.0</td>\n",
       "    </tr>\n",
       "    <tr>\n",
       "      <th>734</th>\n",
       "      <td>2018-02-17 23:53:11.660000</td>\n",
       "      <td>6.0</td>\n",
       "      <td>12.0</td>\n",
       "      <td>11.0</td>\n",
       "      <td>193.0</td>\n",
       "      <td>47.0</td>\n",
       "      <td>41.0</td>\n",
       "      <td>12.0</td>\n",
       "      <td>729.0</td>\n",
       "      <td>663.0</td>\n",
       "      <td>...</td>\n",
       "      <td>234.0</td>\n",
       "      <td>18.0</td>\n",
       "      <td>498.0</td>\n",
       "      <td>54.0</td>\n",
       "      <td>22.0</td>\n",
       "      <td>37.0</td>\n",
       "      <td>37.0</td>\n",
       "      <td>5.0</td>\n",
       "      <td>961.0</td>\n",
       "      <td>196207.0</td>\n",
       "    </tr>\n",
       "    <tr>\n",
       "      <th>735</th>\n",
       "      <td>2018-02-16 23:53:11.660000</td>\n",
       "      <td>6.0</td>\n",
       "      <td>12.0</td>\n",
       "      <td>71.0</td>\n",
       "      <td>36.0</td>\n",
       "      <td>40.0</td>\n",
       "      <td>44.0</td>\n",
       "      <td>13.0</td>\n",
       "      <td>800.0</td>\n",
       "      <td>450.0</td>\n",
       "      <td>...</td>\n",
       "      <td>241.0</td>\n",
       "      <td>21.0</td>\n",
       "      <td>964.0</td>\n",
       "      <td>49.0</td>\n",
       "      <td>24.0</td>\n",
       "      <td>22.0</td>\n",
       "      <td>40.0</td>\n",
       "      <td>5.0</td>\n",
       "      <td>883.0</td>\n",
       "      <td>200722.0</td>\n",
       "    </tr>\n",
       "    <tr>\n",
       "      <th>736</th>\n",
       "      <td>2018-02-15 23:53:11.660000</td>\n",
       "      <td>6.0</td>\n",
       "      <td>13.0</td>\n",
       "      <td>93.0</td>\n",
       "      <td>197.0</td>\n",
       "      <td>55.0</td>\n",
       "      <td>53.0</td>\n",
       "      <td>13.0</td>\n",
       "      <td>867.0</td>\n",
       "      <td>452.0</td>\n",
       "      <td>...</td>\n",
       "      <td>248.0</td>\n",
       "      <td>7.0</td>\n",
       "      <td>870.0</td>\n",
       "      <td>44.0</td>\n",
       "      <td>22.0</td>\n",
       "      <td>39.0</td>\n",
       "      <td>44.0</td>\n",
       "      <td>2.0</td>\n",
       "      <td>715.0</td>\n",
       "      <td>212384.0</td>\n",
       "    </tr>\n",
       "  </tbody>\n",
       "</table>\n",
       "<p>737 rows × 25 columns</p>\n",
       "</div>"
      ],
      "text/plain": [
       "                           Date  CHW Tin, C  CHW Tout, C  \\\n",
       "0    2020-02-21 23:53:11.660000         6.0         11.0   \n",
       "1    2020-02-20 23:53:11.660000         6.0         13.0   \n",
       "2    2020-02-19 23:53:11.660000         6.0         12.0   \n",
       "3    2020-02-18 23:53:11.660000         7.0         13.0   \n",
       "4    2020-02-17 23:53:11.660000         6.0         13.0   \n",
       "..                          ...         ...          ...   \n",
       "732  2018-02-19 23:53:11.660000         7.0         12.0   \n",
       "733  2018-02-18 23:53:11.660000         7.0         13.0   \n",
       "734  2018-02-17 23:53:11.660000         6.0         12.0   \n",
       "735  2018-02-16 23:53:11.660000         6.0         12.0   \n",
       "736  2018-02-15 23:53:11.660000         6.0         13.0   \n",
       "\n",
       "     CHW Valve Position, %  CHW FR, L/s  SA Fan Frequency, Hz  \\\n",
       "0                     20.0         21.0                  58.0   \n",
       "1                     98.0        181.0                  46.0   \n",
       "2                     99.0        190.0                  46.0   \n",
       "3                     17.0         96.0                  48.0   \n",
       "4                     28.0         36.0                  52.0   \n",
       "..                     ...          ...                   ...   \n",
       "732                   77.0         90.0                  44.0   \n",
       "733                   76.0         62.0                  43.0   \n",
       "734                   11.0        193.0                  47.0   \n",
       "735                   71.0         36.0                  40.0   \n",
       "736                   93.0        197.0                  55.0   \n",
       "\n",
       "     RA Fan Frequency, Hz  SA T, C  SA FR, L/s  RA FR, L/s  ...  OA FR, L/s  \\\n",
       "0                    47.0     13.0       609.0       609.0  ...       274.0   \n",
       "1                    44.0     12.0       769.0       554.0  ...       276.0   \n",
       "2                    45.0     12.0       729.0       623.0  ...       241.0   \n",
       "3                    46.0     13.0       741.0       532.0  ...       266.0   \n",
       "4                    47.0     13.0       735.0       420.0  ...       227.0   \n",
       "..                    ...      ...         ...         ...  ...         ...   \n",
       "732                  51.0     13.0       671.0       731.0  ...       215.0   \n",
       "733                  40.0     12.0       671.0       468.0  ...       203.0   \n",
       "734                  41.0     12.0       729.0       663.0  ...       234.0   \n",
       "735                  44.0     13.0       800.0       450.0  ...       241.0   \n",
       "736                  53.0     13.0       867.0       452.0  ...       248.0   \n",
       "\n",
       "     OA Damper Open, %  Space, CO2  Space RH, RH  Space T, C  OA T, C  \\\n",
       "0                  6.0       684.0          54.0        24.0     23.0   \n",
       "1                 23.0       766.0          54.0        24.0     35.0   \n",
       "2                  3.0      2017.0          63.0        22.0     23.0   \n",
       "3                 10.0      1787.0          53.0        23.0     30.0   \n",
       "4                 11.0      1655.0          39.0        22.0     27.0   \n",
       "..                 ...         ...           ...         ...      ...   \n",
       "732               21.0       677.0          37.0        24.0     26.0   \n",
       "733                6.0       721.0          43.0        22.0     33.0   \n",
       "734               18.0       498.0          54.0        22.0     37.0   \n",
       "735               21.0       964.0          49.0        24.0     22.0   \n",
       "736                7.0       870.0          44.0        22.0     39.0   \n",
       "\n",
       "     OAT RH, RH  AHU COP  Total Power, KW  Norm Energy Monthly, Kw-Hr  \n",
       "0          44.0      4.0            666.0                    206838.0  \n",
       "1          36.0      3.0            631.0                    205650.0  \n",
       "2          39.0      3.0            941.0                    218792.0  \n",
       "3          49.0      2.0            878.0                    216628.0  \n",
       "4          65.0      2.0            919.0                    198400.0  \n",
       "..          ...      ...              ...                         ...  \n",
       "732        42.0      2.0            661.0                    219735.0  \n",
       "733        61.0      1.0            672.0                    201625.0  \n",
       "734        37.0      5.0            961.0                    196207.0  \n",
       "735        40.0      5.0            883.0                    200722.0  \n",
       "736        44.0      2.0            715.0                    212384.0  \n",
       "\n",
       "[737 rows x 25 columns]"
      ]
     },
     "execution_count": 334,
     "metadata": {},
     "output_type": "execute_result"
    }
   ],
   "source": [
    "df"
   ]
  },
  {
   "cell_type": "code",
   "execution_count": 335,
   "metadata": {},
   "outputs": [
    {
     "data": {
      "text/plain": [
       "(737, 25)"
      ]
     },
     "execution_count": 335,
     "metadata": {},
     "output_type": "execute_result"
    }
   ],
   "source": [
    "df.shape"
   ]
  },
  {
   "cell_type": "code",
   "execution_count": 336,
   "metadata": {},
   "outputs": [
    {
     "data": {
      "text/plain": [
       "datetime.datetime"
      ]
     },
     "execution_count": 336,
     "metadata": {},
     "output_type": "execute_result"
    }
   ],
   "source": [
    "type(df['Date'][0])"
   ]
  },
  {
   "cell_type": "code",
   "execution_count": 337,
   "metadata": {},
   "outputs": [],
   "source": [
    "#df[\"Date\"] = [d.date() for d in df[\"Date\"]]"
   ]
  },
  {
   "cell_type": "code",
   "execution_count": 338,
   "metadata": {},
   "outputs": [],
   "source": [
    "df['Date'] = pd.to_datetime(df['Date']) #datetimeIndex"
   ]
  },
  {
   "cell_type": "code",
   "execution_count": 339,
   "metadata": {},
   "outputs": [
    {
     "data": {
      "text/html": [
       "<div>\n",
       "<style scoped>\n",
       "    .dataframe tbody tr th:only-of-type {\n",
       "        vertical-align: middle;\n",
       "    }\n",
       "\n",
       "    .dataframe tbody tr th {\n",
       "        vertical-align: top;\n",
       "    }\n",
       "\n",
       "    .dataframe thead th {\n",
       "        text-align: right;\n",
       "    }\n",
       "</style>\n",
       "<table border=\"1\" class=\"dataframe\">\n",
       "  <thead>\n",
       "    <tr style=\"text-align: right;\">\n",
       "      <th></th>\n",
       "      <th>Date</th>\n",
       "      <th>CHW Tin, C</th>\n",
       "      <th>CHW Tout, C</th>\n",
       "      <th>CHW Valve Position, %</th>\n",
       "      <th>CHW FR, L/s</th>\n",
       "      <th>SA Fan Frequency, Hz</th>\n",
       "      <th>RA Fan Frequency, Hz</th>\n",
       "      <th>SA T, C</th>\n",
       "      <th>SA FR, L/s</th>\n",
       "      <th>RA FR, L/s</th>\n",
       "      <th>...</th>\n",
       "      <th>OA FR, L/s</th>\n",
       "      <th>OA Damper Open, %</th>\n",
       "      <th>Space, CO2</th>\n",
       "      <th>Space RH, RH</th>\n",
       "      <th>Space T, C</th>\n",
       "      <th>OA T, C</th>\n",
       "      <th>OAT RH, RH</th>\n",
       "      <th>AHU COP</th>\n",
       "      <th>Total Power, KW</th>\n",
       "      <th>Norm Energy Monthly, Kw-Hr</th>\n",
       "    </tr>\n",
       "  </thead>\n",
       "  <tbody>\n",
       "    <tr>\n",
       "      <th>0</th>\n",
       "      <td>2020-02-21 23:53:11.660</td>\n",
       "      <td>6.0</td>\n",
       "      <td>11.0</td>\n",
       "      <td>20.0</td>\n",
       "      <td>21.0</td>\n",
       "      <td>58.0</td>\n",
       "      <td>47.0</td>\n",
       "      <td>13.0</td>\n",
       "      <td>609.0</td>\n",
       "      <td>609.0</td>\n",
       "      <td>...</td>\n",
       "      <td>274.0</td>\n",
       "      <td>6.0</td>\n",
       "      <td>684.0</td>\n",
       "      <td>54.0</td>\n",
       "      <td>24.0</td>\n",
       "      <td>23.0</td>\n",
       "      <td>44.0</td>\n",
       "      <td>4.0</td>\n",
       "      <td>666.0</td>\n",
       "      <td>206838.0</td>\n",
       "    </tr>\n",
       "    <tr>\n",
       "      <th>1</th>\n",
       "      <td>2020-02-20 23:53:11.660</td>\n",
       "      <td>6.0</td>\n",
       "      <td>13.0</td>\n",
       "      <td>98.0</td>\n",
       "      <td>181.0</td>\n",
       "      <td>46.0</td>\n",
       "      <td>44.0</td>\n",
       "      <td>12.0</td>\n",
       "      <td>769.0</td>\n",
       "      <td>554.0</td>\n",
       "      <td>...</td>\n",
       "      <td>276.0</td>\n",
       "      <td>23.0</td>\n",
       "      <td>766.0</td>\n",
       "      <td>54.0</td>\n",
       "      <td>24.0</td>\n",
       "      <td>35.0</td>\n",
       "      <td>36.0</td>\n",
       "      <td>3.0</td>\n",
       "      <td>631.0</td>\n",
       "      <td>205650.0</td>\n",
       "    </tr>\n",
       "    <tr>\n",
       "      <th>2</th>\n",
       "      <td>2020-02-19 23:53:11.660</td>\n",
       "      <td>6.0</td>\n",
       "      <td>12.0</td>\n",
       "      <td>99.0</td>\n",
       "      <td>190.0</td>\n",
       "      <td>46.0</td>\n",
       "      <td>45.0</td>\n",
       "      <td>12.0</td>\n",
       "      <td>729.0</td>\n",
       "      <td>623.0</td>\n",
       "      <td>...</td>\n",
       "      <td>241.0</td>\n",
       "      <td>3.0</td>\n",
       "      <td>2017.0</td>\n",
       "      <td>63.0</td>\n",
       "      <td>22.0</td>\n",
       "      <td>23.0</td>\n",
       "      <td>39.0</td>\n",
       "      <td>3.0</td>\n",
       "      <td>941.0</td>\n",
       "      <td>218792.0</td>\n",
       "    </tr>\n",
       "    <tr>\n",
       "      <th>3</th>\n",
       "      <td>2020-02-18 23:53:11.660</td>\n",
       "      <td>7.0</td>\n",
       "      <td>13.0</td>\n",
       "      <td>17.0</td>\n",
       "      <td>96.0</td>\n",
       "      <td>48.0</td>\n",
       "      <td>46.0</td>\n",
       "      <td>13.0</td>\n",
       "      <td>741.0</td>\n",
       "      <td>532.0</td>\n",
       "      <td>...</td>\n",
       "      <td>266.0</td>\n",
       "      <td>10.0</td>\n",
       "      <td>1787.0</td>\n",
       "      <td>53.0</td>\n",
       "      <td>23.0</td>\n",
       "      <td>30.0</td>\n",
       "      <td>49.0</td>\n",
       "      <td>2.0</td>\n",
       "      <td>878.0</td>\n",
       "      <td>216628.0</td>\n",
       "    </tr>\n",
       "    <tr>\n",
       "      <th>4</th>\n",
       "      <td>2020-02-17 23:53:11.660</td>\n",
       "      <td>6.0</td>\n",
       "      <td>13.0</td>\n",
       "      <td>28.0</td>\n",
       "      <td>36.0</td>\n",
       "      <td>52.0</td>\n",
       "      <td>47.0</td>\n",
       "      <td>13.0</td>\n",
       "      <td>735.0</td>\n",
       "      <td>420.0</td>\n",
       "      <td>...</td>\n",
       "      <td>227.0</td>\n",
       "      <td>11.0</td>\n",
       "      <td>1655.0</td>\n",
       "      <td>39.0</td>\n",
       "      <td>22.0</td>\n",
       "      <td>27.0</td>\n",
       "      <td>65.0</td>\n",
       "      <td>2.0</td>\n",
       "      <td>919.0</td>\n",
       "      <td>198400.0</td>\n",
       "    </tr>\n",
       "    <tr>\n",
       "      <th>...</th>\n",
       "      <td>...</td>\n",
       "      <td>...</td>\n",
       "      <td>...</td>\n",
       "      <td>...</td>\n",
       "      <td>...</td>\n",
       "      <td>...</td>\n",
       "      <td>...</td>\n",
       "      <td>...</td>\n",
       "      <td>...</td>\n",
       "      <td>...</td>\n",
       "      <td>...</td>\n",
       "      <td>...</td>\n",
       "      <td>...</td>\n",
       "      <td>...</td>\n",
       "      <td>...</td>\n",
       "      <td>...</td>\n",
       "      <td>...</td>\n",
       "      <td>...</td>\n",
       "      <td>...</td>\n",
       "      <td>...</td>\n",
       "      <td>...</td>\n",
       "    </tr>\n",
       "    <tr>\n",
       "      <th>732</th>\n",
       "      <td>2018-02-19 23:53:11.660</td>\n",
       "      <td>7.0</td>\n",
       "      <td>12.0</td>\n",
       "      <td>77.0</td>\n",
       "      <td>90.0</td>\n",
       "      <td>44.0</td>\n",
       "      <td>51.0</td>\n",
       "      <td>13.0</td>\n",
       "      <td>671.0</td>\n",
       "      <td>731.0</td>\n",
       "      <td>...</td>\n",
       "      <td>215.0</td>\n",
       "      <td>21.0</td>\n",
       "      <td>677.0</td>\n",
       "      <td>37.0</td>\n",
       "      <td>24.0</td>\n",
       "      <td>26.0</td>\n",
       "      <td>42.0</td>\n",
       "      <td>2.0</td>\n",
       "      <td>661.0</td>\n",
       "      <td>219735.0</td>\n",
       "    </tr>\n",
       "    <tr>\n",
       "      <th>733</th>\n",
       "      <td>2018-02-18 23:53:11.660</td>\n",
       "      <td>7.0</td>\n",
       "      <td>13.0</td>\n",
       "      <td>76.0</td>\n",
       "      <td>62.0</td>\n",
       "      <td>43.0</td>\n",
       "      <td>40.0</td>\n",
       "      <td>12.0</td>\n",
       "      <td>671.0</td>\n",
       "      <td>468.0</td>\n",
       "      <td>...</td>\n",
       "      <td>203.0</td>\n",
       "      <td>6.0</td>\n",
       "      <td>721.0</td>\n",
       "      <td>43.0</td>\n",
       "      <td>22.0</td>\n",
       "      <td>33.0</td>\n",
       "      <td>61.0</td>\n",
       "      <td>1.0</td>\n",
       "      <td>672.0</td>\n",
       "      <td>201625.0</td>\n",
       "    </tr>\n",
       "    <tr>\n",
       "      <th>734</th>\n",
       "      <td>2018-02-17 23:53:11.660</td>\n",
       "      <td>6.0</td>\n",
       "      <td>12.0</td>\n",
       "      <td>11.0</td>\n",
       "      <td>193.0</td>\n",
       "      <td>47.0</td>\n",
       "      <td>41.0</td>\n",
       "      <td>12.0</td>\n",
       "      <td>729.0</td>\n",
       "      <td>663.0</td>\n",
       "      <td>...</td>\n",
       "      <td>234.0</td>\n",
       "      <td>18.0</td>\n",
       "      <td>498.0</td>\n",
       "      <td>54.0</td>\n",
       "      <td>22.0</td>\n",
       "      <td>37.0</td>\n",
       "      <td>37.0</td>\n",
       "      <td>5.0</td>\n",
       "      <td>961.0</td>\n",
       "      <td>196207.0</td>\n",
       "    </tr>\n",
       "    <tr>\n",
       "      <th>735</th>\n",
       "      <td>2018-02-16 23:53:11.660</td>\n",
       "      <td>6.0</td>\n",
       "      <td>12.0</td>\n",
       "      <td>71.0</td>\n",
       "      <td>36.0</td>\n",
       "      <td>40.0</td>\n",
       "      <td>44.0</td>\n",
       "      <td>13.0</td>\n",
       "      <td>800.0</td>\n",
       "      <td>450.0</td>\n",
       "      <td>...</td>\n",
       "      <td>241.0</td>\n",
       "      <td>21.0</td>\n",
       "      <td>964.0</td>\n",
       "      <td>49.0</td>\n",
       "      <td>24.0</td>\n",
       "      <td>22.0</td>\n",
       "      <td>40.0</td>\n",
       "      <td>5.0</td>\n",
       "      <td>883.0</td>\n",
       "      <td>200722.0</td>\n",
       "    </tr>\n",
       "    <tr>\n",
       "      <th>736</th>\n",
       "      <td>2018-02-15 23:53:11.660</td>\n",
       "      <td>6.0</td>\n",
       "      <td>13.0</td>\n",
       "      <td>93.0</td>\n",
       "      <td>197.0</td>\n",
       "      <td>55.0</td>\n",
       "      <td>53.0</td>\n",
       "      <td>13.0</td>\n",
       "      <td>867.0</td>\n",
       "      <td>452.0</td>\n",
       "      <td>...</td>\n",
       "      <td>248.0</td>\n",
       "      <td>7.0</td>\n",
       "      <td>870.0</td>\n",
       "      <td>44.0</td>\n",
       "      <td>22.0</td>\n",
       "      <td>39.0</td>\n",
       "      <td>44.0</td>\n",
       "      <td>2.0</td>\n",
       "      <td>715.0</td>\n",
       "      <td>212384.0</td>\n",
       "    </tr>\n",
       "  </tbody>\n",
       "</table>\n",
       "<p>737 rows × 25 columns</p>\n",
       "</div>"
      ],
      "text/plain": [
       "                       Date  CHW Tin, C  CHW Tout, C  CHW Valve Position, %  \\\n",
       "0   2020-02-21 23:53:11.660         6.0         11.0                   20.0   \n",
       "1   2020-02-20 23:53:11.660         6.0         13.0                   98.0   \n",
       "2   2020-02-19 23:53:11.660         6.0         12.0                   99.0   \n",
       "3   2020-02-18 23:53:11.660         7.0         13.0                   17.0   \n",
       "4   2020-02-17 23:53:11.660         6.0         13.0                   28.0   \n",
       "..                      ...         ...          ...                    ...   \n",
       "732 2018-02-19 23:53:11.660         7.0         12.0                   77.0   \n",
       "733 2018-02-18 23:53:11.660         7.0         13.0                   76.0   \n",
       "734 2018-02-17 23:53:11.660         6.0         12.0                   11.0   \n",
       "735 2018-02-16 23:53:11.660         6.0         12.0                   71.0   \n",
       "736 2018-02-15 23:53:11.660         6.0         13.0                   93.0   \n",
       "\n",
       "     CHW FR, L/s  SA Fan Frequency, Hz  RA Fan Frequency, Hz  SA T, C  \\\n",
       "0           21.0                  58.0                  47.0     13.0   \n",
       "1          181.0                  46.0                  44.0     12.0   \n",
       "2          190.0                  46.0                  45.0     12.0   \n",
       "3           96.0                  48.0                  46.0     13.0   \n",
       "4           36.0                  52.0                  47.0     13.0   \n",
       "..           ...                   ...                   ...      ...   \n",
       "732         90.0                  44.0                  51.0     13.0   \n",
       "733         62.0                  43.0                  40.0     12.0   \n",
       "734        193.0                  47.0                  41.0     12.0   \n",
       "735         36.0                  40.0                  44.0     13.0   \n",
       "736        197.0                  55.0                  53.0     13.0   \n",
       "\n",
       "     SA FR, L/s  RA FR, L/s  ...  OA FR, L/s  OA Damper Open, %  Space, CO2  \\\n",
       "0         609.0       609.0  ...       274.0                6.0       684.0   \n",
       "1         769.0       554.0  ...       276.0               23.0       766.0   \n",
       "2         729.0       623.0  ...       241.0                3.0      2017.0   \n",
       "3         741.0       532.0  ...       266.0               10.0      1787.0   \n",
       "4         735.0       420.0  ...       227.0               11.0      1655.0   \n",
       "..          ...         ...  ...         ...                ...         ...   \n",
       "732       671.0       731.0  ...       215.0               21.0       677.0   \n",
       "733       671.0       468.0  ...       203.0                6.0       721.0   \n",
       "734       729.0       663.0  ...       234.0               18.0       498.0   \n",
       "735       800.0       450.0  ...       241.0               21.0       964.0   \n",
       "736       867.0       452.0  ...       248.0                7.0       870.0   \n",
       "\n",
       "     Space RH, RH  Space T, C  OA T, C  OAT RH, RH  AHU COP  Total Power, KW  \\\n",
       "0            54.0        24.0     23.0        44.0      4.0            666.0   \n",
       "1            54.0        24.0     35.0        36.0      3.0            631.0   \n",
       "2            63.0        22.0     23.0        39.0      3.0            941.0   \n",
       "3            53.0        23.0     30.0        49.0      2.0            878.0   \n",
       "4            39.0        22.0     27.0        65.0      2.0            919.0   \n",
       "..            ...         ...      ...         ...      ...              ...   \n",
       "732          37.0        24.0     26.0        42.0      2.0            661.0   \n",
       "733          43.0        22.0     33.0        61.0      1.0            672.0   \n",
       "734          54.0        22.0     37.0        37.0      5.0            961.0   \n",
       "735          49.0        24.0     22.0        40.0      5.0            883.0   \n",
       "736          44.0        22.0     39.0        44.0      2.0            715.0   \n",
       "\n",
       "     Norm Energy Monthly, Kw-Hr  \n",
       "0                      206838.0  \n",
       "1                      205650.0  \n",
       "2                      218792.0  \n",
       "3                      216628.0  \n",
       "4                      198400.0  \n",
       "..                          ...  \n",
       "732                    219735.0  \n",
       "733                    201625.0  \n",
       "734                    196207.0  \n",
       "735                    200722.0  \n",
       "736                    212384.0  \n",
       "\n",
       "[737 rows x 25 columns]"
      ]
     },
     "execution_count": 339,
     "metadata": {},
     "output_type": "execute_result"
    }
   ],
   "source": [
    "df"
   ]
  },
  {
   "cell_type": "code",
   "execution_count": 340,
   "metadata": {},
   "outputs": [],
   "source": [
    "df=df.set_index('Date') #set_Index"
   ]
  },
  {
   "cell_type": "code",
   "execution_count": 342,
   "metadata": {},
   "outputs": [
    {
     "data": {
      "text/html": [
       "<div>\n",
       "<style scoped>\n",
       "    .dataframe tbody tr th:only-of-type {\n",
       "        vertical-align: middle;\n",
       "    }\n",
       "\n",
       "    .dataframe tbody tr th {\n",
       "        vertical-align: top;\n",
       "    }\n",
       "\n",
       "    .dataframe thead th {\n",
       "        text-align: right;\n",
       "    }\n",
       "</style>\n",
       "<table border=\"1\" class=\"dataframe\">\n",
       "  <thead>\n",
       "    <tr style=\"text-align: right;\">\n",
       "      <th></th>\n",
       "      <th>CHW Tin, C</th>\n",
       "      <th>CHW Tout, C</th>\n",
       "      <th>CHW Valve Position, %</th>\n",
       "      <th>CHW FR, L/s</th>\n",
       "      <th>SA Fan Frequency, Hz</th>\n",
       "      <th>RA Fan Frequency, Hz</th>\n",
       "      <th>SA T, C</th>\n",
       "      <th>SA FR, L/s</th>\n",
       "      <th>RA FR, L/s</th>\n",
       "      <th>SA Duct St Pressure, Pa</th>\n",
       "      <th>...</th>\n",
       "      <th>OA FR, L/s</th>\n",
       "      <th>OA Damper Open, %</th>\n",
       "      <th>Space, CO2</th>\n",
       "      <th>Space RH, RH</th>\n",
       "      <th>Space T, C</th>\n",
       "      <th>OA T, C</th>\n",
       "      <th>OAT RH, RH</th>\n",
       "      <th>AHU COP</th>\n",
       "      <th>Total Power, KW</th>\n",
       "      <th>Norm Energy Monthly, Kw-Hr</th>\n",
       "    </tr>\n",
       "    <tr>\n",
       "      <th>Date</th>\n",
       "      <th></th>\n",
       "      <th></th>\n",
       "      <th></th>\n",
       "      <th></th>\n",
       "      <th></th>\n",
       "      <th></th>\n",
       "      <th></th>\n",
       "      <th></th>\n",
       "      <th></th>\n",
       "      <th></th>\n",
       "      <th></th>\n",
       "      <th></th>\n",
       "      <th></th>\n",
       "      <th></th>\n",
       "      <th></th>\n",
       "      <th></th>\n",
       "      <th></th>\n",
       "      <th></th>\n",
       "      <th></th>\n",
       "      <th></th>\n",
       "      <th></th>\n",
       "    </tr>\n",
       "  </thead>\n",
       "  <tbody>\n",
       "    <tr>\n",
       "      <th>2020-02-21 23:53:11.660</th>\n",
       "      <td>6.0</td>\n",
       "      <td>11.0</td>\n",
       "      <td>20.0</td>\n",
       "      <td>21.0</td>\n",
       "      <td>58.0</td>\n",
       "      <td>47.0</td>\n",
       "      <td>13.0</td>\n",
       "      <td>609.0</td>\n",
       "      <td>609.0</td>\n",
       "      <td>92.0</td>\n",
       "      <td>...</td>\n",
       "      <td>274.0</td>\n",
       "      <td>6.0</td>\n",
       "      <td>684.0</td>\n",
       "      <td>54.0</td>\n",
       "      <td>24.0</td>\n",
       "      <td>23.0</td>\n",
       "      <td>44.0</td>\n",
       "      <td>4.0</td>\n",
       "      <td>666.0</td>\n",
       "      <td>206838.0</td>\n",
       "    </tr>\n",
       "    <tr>\n",
       "      <th>2020-02-20 23:53:11.660</th>\n",
       "      <td>6.0</td>\n",
       "      <td>13.0</td>\n",
       "      <td>98.0</td>\n",
       "      <td>181.0</td>\n",
       "      <td>46.0</td>\n",
       "      <td>44.0</td>\n",
       "      <td>12.0</td>\n",
       "      <td>769.0</td>\n",
       "      <td>554.0</td>\n",
       "      <td>94.0</td>\n",
       "      <td>...</td>\n",
       "      <td>276.0</td>\n",
       "      <td>23.0</td>\n",
       "      <td>766.0</td>\n",
       "      <td>54.0</td>\n",
       "      <td>24.0</td>\n",
       "      <td>35.0</td>\n",
       "      <td>36.0</td>\n",
       "      <td>3.0</td>\n",
       "      <td>631.0</td>\n",
       "      <td>205650.0</td>\n",
       "    </tr>\n",
       "    <tr>\n",
       "      <th>2020-02-19 23:53:11.660</th>\n",
       "      <td>6.0</td>\n",
       "      <td>12.0</td>\n",
       "      <td>99.0</td>\n",
       "      <td>190.0</td>\n",
       "      <td>46.0</td>\n",
       "      <td>45.0</td>\n",
       "      <td>12.0</td>\n",
       "      <td>729.0</td>\n",
       "      <td>623.0</td>\n",
       "      <td>108.0</td>\n",
       "      <td>...</td>\n",
       "      <td>241.0</td>\n",
       "      <td>3.0</td>\n",
       "      <td>2017.0</td>\n",
       "      <td>63.0</td>\n",
       "      <td>22.0</td>\n",
       "      <td>23.0</td>\n",
       "      <td>39.0</td>\n",
       "      <td>3.0</td>\n",
       "      <td>941.0</td>\n",
       "      <td>218792.0</td>\n",
       "    </tr>\n",
       "    <tr>\n",
       "      <th>2020-02-18 23:53:11.660</th>\n",
       "      <td>7.0</td>\n",
       "      <td>13.0</td>\n",
       "      <td>17.0</td>\n",
       "      <td>96.0</td>\n",
       "      <td>48.0</td>\n",
       "      <td>46.0</td>\n",
       "      <td>13.0</td>\n",
       "      <td>741.0</td>\n",
       "      <td>532.0</td>\n",
       "      <td>108.0</td>\n",
       "      <td>...</td>\n",
       "      <td>266.0</td>\n",
       "      <td>10.0</td>\n",
       "      <td>1787.0</td>\n",
       "      <td>53.0</td>\n",
       "      <td>23.0</td>\n",
       "      <td>30.0</td>\n",
       "      <td>49.0</td>\n",
       "      <td>2.0</td>\n",
       "      <td>878.0</td>\n",
       "      <td>216628.0</td>\n",
       "    </tr>\n",
       "    <tr>\n",
       "      <th>2020-02-17 23:53:11.660</th>\n",
       "      <td>6.0</td>\n",
       "      <td>13.0</td>\n",
       "      <td>28.0</td>\n",
       "      <td>36.0</td>\n",
       "      <td>52.0</td>\n",
       "      <td>47.0</td>\n",
       "      <td>13.0</td>\n",
       "      <td>735.0</td>\n",
       "      <td>420.0</td>\n",
       "      <td>92.0</td>\n",
       "      <td>...</td>\n",
       "      <td>227.0</td>\n",
       "      <td>11.0</td>\n",
       "      <td>1655.0</td>\n",
       "      <td>39.0</td>\n",
       "      <td>22.0</td>\n",
       "      <td>27.0</td>\n",
       "      <td>65.0</td>\n",
       "      <td>2.0</td>\n",
       "      <td>919.0</td>\n",
       "      <td>198400.0</td>\n",
       "    </tr>\n",
       "  </tbody>\n",
       "</table>\n",
       "<p>5 rows × 24 columns</p>\n",
       "</div>"
      ],
      "text/plain": [
       "                         CHW Tin, C  CHW Tout, C  CHW Valve Position, %  \\\n",
       "Date                                                                      \n",
       "2020-02-21 23:53:11.660         6.0         11.0                   20.0   \n",
       "2020-02-20 23:53:11.660         6.0         13.0                   98.0   \n",
       "2020-02-19 23:53:11.660         6.0         12.0                   99.0   \n",
       "2020-02-18 23:53:11.660         7.0         13.0                   17.0   \n",
       "2020-02-17 23:53:11.660         6.0         13.0                   28.0   \n",
       "\n",
       "                         CHW FR, L/s  SA Fan Frequency, Hz  \\\n",
       "Date                                                         \n",
       "2020-02-21 23:53:11.660         21.0                  58.0   \n",
       "2020-02-20 23:53:11.660        181.0                  46.0   \n",
       "2020-02-19 23:53:11.660        190.0                  46.0   \n",
       "2020-02-18 23:53:11.660         96.0                  48.0   \n",
       "2020-02-17 23:53:11.660         36.0                  52.0   \n",
       "\n",
       "                         RA Fan Frequency, Hz  SA T, C  SA FR, L/s  \\\n",
       "Date                                                                 \n",
       "2020-02-21 23:53:11.660                  47.0     13.0       609.0   \n",
       "2020-02-20 23:53:11.660                  44.0     12.0       769.0   \n",
       "2020-02-19 23:53:11.660                  45.0     12.0       729.0   \n",
       "2020-02-18 23:53:11.660                  46.0     13.0       741.0   \n",
       "2020-02-17 23:53:11.660                  47.0     13.0       735.0   \n",
       "\n",
       "                         RA FR, L/s  SA Duct St Pressure, Pa  ...  OA FR, L/s  \\\n",
       "Date                                                          ...               \n",
       "2020-02-21 23:53:11.660       609.0                     92.0  ...       274.0   \n",
       "2020-02-20 23:53:11.660       554.0                     94.0  ...       276.0   \n",
       "2020-02-19 23:53:11.660       623.0                    108.0  ...       241.0   \n",
       "2020-02-18 23:53:11.660       532.0                    108.0  ...       266.0   \n",
       "2020-02-17 23:53:11.660       420.0                     92.0  ...       227.0   \n",
       "\n",
       "                         OA Damper Open, %  Space, CO2  Space RH, RH  \\\n",
       "Date                                                                   \n",
       "2020-02-21 23:53:11.660                6.0       684.0          54.0   \n",
       "2020-02-20 23:53:11.660               23.0       766.0          54.0   \n",
       "2020-02-19 23:53:11.660                3.0      2017.0          63.0   \n",
       "2020-02-18 23:53:11.660               10.0      1787.0          53.0   \n",
       "2020-02-17 23:53:11.660               11.0      1655.0          39.0   \n",
       "\n",
       "                         Space T, C  OA T, C  OAT RH, RH  AHU COP  \\\n",
       "Date                                                                \n",
       "2020-02-21 23:53:11.660        24.0     23.0        44.0      4.0   \n",
       "2020-02-20 23:53:11.660        24.0     35.0        36.0      3.0   \n",
       "2020-02-19 23:53:11.660        22.0     23.0        39.0      3.0   \n",
       "2020-02-18 23:53:11.660        23.0     30.0        49.0      2.0   \n",
       "2020-02-17 23:53:11.660        22.0     27.0        65.0      2.0   \n",
       "\n",
       "                         Total Power, KW  Norm Energy Monthly, Kw-Hr  \n",
       "Date                                                                  \n",
       "2020-02-21 23:53:11.660            666.0                    206838.0  \n",
       "2020-02-20 23:53:11.660            631.0                    205650.0  \n",
       "2020-02-19 23:53:11.660            941.0                    218792.0  \n",
       "2020-02-18 23:53:11.660            878.0                    216628.0  \n",
       "2020-02-17 23:53:11.660            919.0                    198400.0  \n",
       "\n",
       "[5 rows x 24 columns]"
      ]
     },
     "execution_count": 342,
     "metadata": {},
     "output_type": "execute_result"
    }
   ],
   "source": [
    "df.head()"
   ]
  },
  {
   "cell_type": "code",
   "execution_count": 343,
   "metadata": {},
   "outputs": [],
   "source": [
    "#df.index=df.index.astype('str')"
   ]
  },
  {
   "cell_type": "code",
   "execution_count": 344,
   "metadata": {},
   "outputs": [
    {
     "data": {
      "text/plain": [
       "DatetimeIndex(['2020-02-21 23:53:11.660000', '2020-02-20 23:53:11.660000',\n",
       "               '2020-02-19 23:53:11.660000', '2020-02-18 23:53:11.660000',\n",
       "               '2020-02-17 23:53:11.660000', '2020-02-16 23:53:11.660000',\n",
       "               '2020-02-15 23:53:11.660000', '2020-02-14 23:53:11.660000',\n",
       "               '2020-02-13 23:53:11.660000', '2020-02-12 23:53:11.660000',\n",
       "               ...\n",
       "               '2018-02-24 23:53:11.660000', '2018-02-23 23:53:11.660000',\n",
       "               '2018-02-22 23:53:11.660000', '2018-02-21 23:53:11.660000',\n",
       "               '2018-02-20 23:53:11.660000', '2018-02-19 23:53:11.660000',\n",
       "               '2018-02-18 23:53:11.660000', '2018-02-17 23:53:11.660000',\n",
       "               '2018-02-16 23:53:11.660000', '2018-02-15 23:53:11.660000'],\n",
       "              dtype='datetime64[ns]', name='Date', length=737, freq=None)"
      ]
     },
     "execution_count": 344,
     "metadata": {},
     "output_type": "execute_result"
    }
   ],
   "source": [
    "df.index"
   ]
  },
  {
   "cell_type": "code",
   "execution_count": 345,
   "metadata": {},
   "outputs": [
    {
     "data": {
      "text/html": [
       "<div>\n",
       "<style scoped>\n",
       "    .dataframe tbody tr th:only-of-type {\n",
       "        vertical-align: middle;\n",
       "    }\n",
       "\n",
       "    .dataframe tbody tr th {\n",
       "        vertical-align: top;\n",
       "    }\n",
       "\n",
       "    .dataframe thead th {\n",
       "        text-align: right;\n",
       "    }\n",
       "</style>\n",
       "<table border=\"1\" class=\"dataframe\">\n",
       "  <thead>\n",
       "    <tr style=\"text-align: right;\">\n",
       "      <th></th>\n",
       "      <th>CHW Tin, C</th>\n",
       "      <th>CHW Tout, C</th>\n",
       "      <th>CHW Valve Position, %</th>\n",
       "      <th>CHW FR, L/s</th>\n",
       "      <th>SA Fan Frequency, Hz</th>\n",
       "      <th>RA Fan Frequency, Hz</th>\n",
       "      <th>SA T, C</th>\n",
       "      <th>SA FR, L/s</th>\n",
       "      <th>RA FR, L/s</th>\n",
       "      <th>SA Duct St Pressure, Pa</th>\n",
       "      <th>...</th>\n",
       "      <th>OA FR, L/s</th>\n",
       "      <th>OA Damper Open, %</th>\n",
       "      <th>Space, CO2</th>\n",
       "      <th>Space RH, RH</th>\n",
       "      <th>Space T, C</th>\n",
       "      <th>OA T, C</th>\n",
       "      <th>OAT RH, RH</th>\n",
       "      <th>AHU COP</th>\n",
       "      <th>Total Power, KW</th>\n",
       "      <th>Norm Energy Monthly, Kw-Hr</th>\n",
       "    </tr>\n",
       "    <tr>\n",
       "      <th>Date</th>\n",
       "      <th></th>\n",
       "      <th></th>\n",
       "      <th></th>\n",
       "      <th></th>\n",
       "      <th></th>\n",
       "      <th></th>\n",
       "      <th></th>\n",
       "      <th></th>\n",
       "      <th></th>\n",
       "      <th></th>\n",
       "      <th></th>\n",
       "      <th></th>\n",
       "      <th></th>\n",
       "      <th></th>\n",
       "      <th></th>\n",
       "      <th></th>\n",
       "      <th></th>\n",
       "      <th></th>\n",
       "      <th></th>\n",
       "      <th></th>\n",
       "      <th></th>\n",
       "    </tr>\n",
       "  </thead>\n",
       "  <tbody>\n",
       "    <tr>\n",
       "      <th>2020-02-12 23:53:11.660</th>\n",
       "      <td>8.0</td>\n",
       "      <td>11.0</td>\n",
       "      <td>42.0</td>\n",
       "      <td>94.0</td>\n",
       "      <td>58.0</td>\n",
       "      <td>49.0</td>\n",
       "      <td>12.0</td>\n",
       "      <td>632.0</td>\n",
       "      <td>688.0</td>\n",
       "      <td>99.0</td>\n",
       "      <td>...</td>\n",
       "      <td>283.0</td>\n",
       "      <td>28.0</td>\n",
       "      <td>2396.0</td>\n",
       "      <td>59.0</td>\n",
       "      <td>24.0</td>\n",
       "      <td>22.0</td>\n",
       "      <td>43.0</td>\n",
       "      <td>2.0</td>\n",
       "      <td>983.0</td>\n",
       "      <td>214500.0</td>\n",
       "    </tr>\n",
       "  </tbody>\n",
       "</table>\n",
       "<p>1 rows × 24 columns</p>\n",
       "</div>"
      ],
      "text/plain": [
       "                         CHW Tin, C  CHW Tout, C  CHW Valve Position, %  \\\n",
       "Date                                                                      \n",
       "2020-02-12 23:53:11.660         8.0         11.0                   42.0   \n",
       "\n",
       "                         CHW FR, L/s  SA Fan Frequency, Hz  \\\n",
       "Date                                                         \n",
       "2020-02-12 23:53:11.660         94.0                  58.0   \n",
       "\n",
       "                         RA Fan Frequency, Hz  SA T, C  SA FR, L/s  \\\n",
       "Date                                                                 \n",
       "2020-02-12 23:53:11.660                  49.0     12.0       632.0   \n",
       "\n",
       "                         RA FR, L/s  SA Duct St Pressure, Pa  ...  OA FR, L/s  \\\n",
       "Date                                                          ...               \n",
       "2020-02-12 23:53:11.660       688.0                     99.0  ...       283.0   \n",
       "\n",
       "                         OA Damper Open, %  Space, CO2  Space RH, RH  \\\n",
       "Date                                                                   \n",
       "2020-02-12 23:53:11.660               28.0      2396.0          59.0   \n",
       "\n",
       "                         Space T, C  OA T, C  OAT RH, RH  AHU COP  \\\n",
       "Date                                                                \n",
       "2020-02-12 23:53:11.660        24.0     22.0        43.0      2.0   \n",
       "\n",
       "                         Total Power, KW  Norm Energy Monthly, Kw-Hr  \n",
       "Date                                                                  \n",
       "2020-02-12 23:53:11.660            983.0                    214500.0  \n",
       "\n",
       "[1 rows x 24 columns]"
      ]
     },
     "execution_count": 345,
     "metadata": {},
     "output_type": "execute_result"
    }
   ],
   "source": [
    "df['2020-02-12']"
   ]
  },
  {
   "cell_type": "code",
   "execution_count": 346,
   "metadata": {},
   "outputs": [
    {
     "data": {
      "text/plain": [
       "Date\n",
       "2018-02-28    801.142857\n",
       "2018-03-31    810.806452\n",
       "2018-04-30    779.400000\n",
       "2018-05-31    766.709677\n",
       "2018-06-30    794.300000\n",
       "2018-07-31    781.387097\n",
       "2018-08-31    800.354839\n",
       "2018-09-30    771.600000\n",
       "2018-10-31    800.129032\n",
       "2018-11-30    782.066667\n",
       "2018-12-31    833.322581\n",
       "2019-01-31    810.225806\n",
       "2019-02-28    814.071429\n",
       "2019-03-31    813.096774\n",
       "2019-04-30    799.133333\n",
       "2019-05-31    814.967742\n",
       "2019-06-30    800.166667\n",
       "2019-07-31    823.483871\n",
       "2019-08-31    800.612903\n",
       "2019-09-30    818.533333\n",
       "2019-10-31    798.290323\n",
       "2019-11-30    778.700000\n",
       "2019-12-31    783.129032\n",
       "2020-01-31    808.064516\n",
       "2020-02-29    832.000000\n",
       "Freq: M, Name: Total Power, KW, dtype: float64"
      ]
     },
     "execution_count": 346,
     "metadata": {},
     "output_type": "execute_result"
    }
   ],
   "source": [
    "df['Total Power, KW'].resample('M').mean() #Monthly Avg. Total power"
   ]
  },
  {
   "cell_type": "markdown",
   "metadata": {},
   "source": [
    "# Daily Total Power Graph"
   ]
  },
  {
   "cell_type": "code",
   "execution_count": 347,
   "metadata": {},
   "outputs": [
    {
     "data": {
      "image/png": "[encoded data removed]",
      "text/plain": [
       "<Figure size 1080x432 with 1 Axes>"
      ]
     },
     "metadata": {
      "needs_background": "light"
     },
     "output_type": "display_data"
    }
   ],
   "source": [
    "\n",
    "figure(num=None,figsize=(15, 6))\n",
    "df['Total Power, KW'].plot()\n",
    "plt.show()"
   ]
  },
  {
   "cell_type": "markdown",
   "metadata": {},
   "source": [
    "# Weekly Avg Total Power Graph"
   ]
  },
  {
   "cell_type": "code",
   "execution_count": 348,
   "metadata": {},
   "outputs": [
    {
     "data": {
      "image/png": "[encoded data removed]",
      "text/plain": [
       "<Figure size 1080x432 with 1 Axes>"
      ]
     },
     "metadata": {
      "needs_background": "light"
     },
     "output_type": "display_data"
    }
   ],
   "source": [
    "\n",
    "figure(num=None,figsize=(15, 6))\n",
    "df['Total Power, KW'].resample('W').mean().plot()\n",
    "plt.show()"
   ]
  },
  {
   "cell_type": "markdown",
   "metadata": {},
   "source": [
    "# Monthly Avg Total Power Graph"
   ]
  },
  {
   "cell_type": "code",
   "execution_count": 349,
   "metadata": {},
   "outputs": [
    {
     "data": {
      "image/png": "[encoded data removed]",
      "text/plain": [
       "<Figure size 720x432 with 1 Axes>"
      ]
     },
     "metadata": {
      "needs_background": "light"
     },
     "output_type": "display_data"
    }
   ],
   "source": [
    "\n",
    "figure(num=None,figsize=(10, 6))\n",
    "df['Total Power, KW'].resample('M').mean().plot()\n",
    "plt.show()"
   ]
  },
  {
   "cell_type": "code",
   "execution_count": null,
   "metadata": {},
   "outputs": [],
   "source": []
  },
  {
   "cell_type": "code",
   "execution_count": null,
   "metadata": {},
   "outputs": [],
   "source": []
  },
  {
   "cell_type": "code",
   "execution_count": null,
   "metadata": {},
   "outputs": [],
   "source": []
  },
  {
   "cell_type": "code",
   "execution_count": null,
   "metadata": {},
   "outputs": [],
   "source": []
  },
  {
   "cell_type": "code",
   "execution_count": null,
   "metadata": {},
   "outputs": [],
   "source": []
  },
  {
   "cell_type": "code",
   "execution_count": 350,
   "metadata": {},
   "outputs": [],
   "source": [
    "alarm_df=alarm_df.iloc[0:737,:]"
   ]
  },
  {
   "cell_type": "code",
   "execution_count": 352,
   "metadata": {},
   "outputs": [
    {
     "data": {
      "text/html": [
       "<div>\n",
       "<style scoped>\n",
       "    .dataframe tbody tr th:only-of-type {\n",
       "        vertical-align: middle;\n",
       "    }\n",
       "\n",
       "    .dataframe tbody tr th {\n",
       "        vertical-align: top;\n",
       "    }\n",
       "\n",
       "    .dataframe thead th {\n",
       "        text-align: right;\n",
       "    }\n",
       "</style>\n",
       "<table border=\"1\" class=\"dataframe\">\n",
       "  <thead>\n",
       "    <tr style=\"text-align: right;\">\n",
       "      <th></th>\n",
       "      <th>CHW Valve Open Position</th>\n",
       "      <th>CHW Valve Close Position</th>\n",
       "      <th>SA Fan Maximum Speed Frequency</th>\n",
       "      <th>SA Fan Minimum Speed Frequency</th>\n",
       "      <th>SA Fan Maximum Flow Rate</th>\n",
       "      <th>SA Fan Minimum Flow Rate</th>\n",
       "    </tr>\n",
       "  </thead>\n",
       "  <tbody>\n",
       "    <tr>\n",
       "      <th>0</th>\n",
       "      <td>NaN</td>\n",
       "      <td>NaN</td>\n",
       "      <td>NaN</td>\n",
       "      <td>NaN</td>\n",
       "      <td>NaN</td>\n",
       "      <td>NaN</td>\n",
       "    </tr>\n",
       "    <tr>\n",
       "      <th>1</th>\n",
       "      <td>NaN</td>\n",
       "      <td>NaN</td>\n",
       "      <td>NaN</td>\n",
       "      <td>NaN</td>\n",
       "      <td>NaN</td>\n",
       "      <td>NaN</td>\n",
       "    </tr>\n",
       "    <tr>\n",
       "      <th>2</th>\n",
       "      <td>NaN</td>\n",
       "      <td>NaN</td>\n",
       "      <td>NaN</td>\n",
       "      <td>NaN</td>\n",
       "      <td>NaN</td>\n",
       "      <td>NaN</td>\n",
       "    </tr>\n",
       "    <tr>\n",
       "      <th>3</th>\n",
       "      <td>NaN</td>\n",
       "      <td>NaN</td>\n",
       "      <td>NaN</td>\n",
       "      <td>NaN</td>\n",
       "      <td>NaN</td>\n",
       "      <td>NaN</td>\n",
       "    </tr>\n",
       "    <tr>\n",
       "      <th>4</th>\n",
       "      <td>NaN</td>\n",
       "      <td>NaN</td>\n",
       "      <td>NaN</td>\n",
       "      <td>NaN</td>\n",
       "      <td>NaN</td>\n",
       "      <td>NaN</td>\n",
       "    </tr>\n",
       "  </tbody>\n",
       "</table>\n",
       "</div>"
      ],
      "text/plain": [
       "  CHW Valve Open Position CHW Valve Close Position  \\\n",
       "0                     NaN                      NaN   \n",
       "1                     NaN                      NaN   \n",
       "2                     NaN                      NaN   \n",
       "3                     NaN                      NaN   \n",
       "4                     NaN                      NaN   \n",
       "\n",
       "  SA Fan Maximum Speed Frequency SA Fan Minimum Speed Frequency  \\\n",
       "0                            NaN                            NaN   \n",
       "1                            NaN                            NaN   \n",
       "2                            NaN                            NaN   \n",
       "3                            NaN                            NaN   \n",
       "4                            NaN                            NaN   \n",
       "\n",
       "  SA Fan Maximum Flow Rate SA Fan Minimum Flow Rate  \n",
       "0                      NaN                      NaN  \n",
       "1                      NaN                      NaN  \n",
       "2                      NaN                      NaN  \n",
       "3                      NaN                      NaN  \n",
       "4                      NaN                      NaN  "
      ]
     },
     "execution_count": 352,
     "metadata": {},
     "output_type": "execute_result"
    }
   ],
   "source": [
    "alarm_df.head()"
   ]
  },
  {
   "cell_type": "code",
   "execution_count": 353,
   "metadata": {},
   "outputs": [
    {
     "data": {
      "text/plain": [
       "(737, 6)"
      ]
     },
     "execution_count": 353,
     "metadata": {},
     "output_type": "execute_result"
    }
   ],
   "source": [
    "alarm_df.shape"
   ]
  },
  {
   "cell_type": "code",
   "execution_count": 354,
   "metadata": {},
   "outputs": [
    {
     "data": {
      "image/png": "[encoded data removed]",
      "text/plain": [
       "<Figure size 432x288 with 1 Axes>"
      ]
     },
     "metadata": {
      "needs_background": "light"
     },
     "output_type": "display_data"
    }
   ],
   "source": [
    "plt.hist(df['CHW Tin, C'],bins=12)\n",
    "plt.show()"
   ]
  },
  {
   "cell_type": "code",
   "execution_count": 355,
   "metadata": {},
   "outputs": [
    {
     "data": {
      "text/plain": [
       "array([6., 7., 8.])"
      ]
     },
     "execution_count": 355,
     "metadata": {},
     "output_type": "execute_result"
    }
   ],
   "source": [
    "df['CHW Tin, C'].unique()"
   ]
  },
  {
   "cell_type": "code",
   "execution_count": 356,
   "metadata": {},
   "outputs": [
    {
     "data": {
      "text/plain": [
       "8.0    257\n",
       "7.0    241\n",
       "6.0    239\n",
       "Name: CHW Tin, C, dtype: int64"
      ]
     },
     "execution_count": 356,
     "metadata": {},
     "output_type": "execute_result"
    }
   ],
   "source": [
    "df['CHW Tin, C'].value_counts()"
   ]
  },
  {
   "cell_type": "code",
   "execution_count": 357,
   "metadata": {},
   "outputs": [
    {
     "data": {
      "text/plain": [
       "count    737.000000\n",
       "mean       7.024423\n",
       "std        0.820558\n",
       "min        6.000000\n",
       "25%        6.000000\n",
       "50%        7.000000\n",
       "75%        8.000000\n",
       "max        8.000000\n",
       "Name: CHW Tin, C, dtype: float64"
      ]
     },
     "execution_count": 357,
     "metadata": {},
     "output_type": "execute_result"
    }
   ],
   "source": [
    "df['CHW Tin, C'].describe()"
   ]
  },
  {
   "cell_type": "code",
   "execution_count": null,
   "metadata": {},
   "outputs": [],
   "source": []
  },
  {
   "cell_type": "code",
   "execution_count": 358,
   "metadata": {},
   "outputs": [
    {
     "data": {
      "text/plain": [
       "<matplotlib.axes._subplots.AxesSubplot at 0x17fa5575e88>"
      ]
     },
     "execution_count": 358,
     "metadata": {},
     "output_type": "execute_result"
    },
    {
     "data": {
      "image/png": "[encoded data removed]",
      "text/plain": [
       "<Figure size 432x288 with 1 Axes>"
      ]
     },
     "metadata": {
      "needs_background": "light"
     },
     "output_type": "display_data"
    }
   ],
   "source": [
    "\n",
    "sns.boxplot(x=df['CHW Tin, C'])"
   ]
  },
  {
   "cell_type": "code",
   "execution_count": null,
   "metadata": {},
   "outputs": [],
   "source": []
  },
  {
   "cell_type": "code",
   "execution_count": null,
   "metadata": {},
   "outputs": [],
   "source": []
  },
  {
   "cell_type": "code",
   "execution_count": 359,
   "metadata": {},
   "outputs": [
    {
     "data": {
      "text/plain": [
       "count    737.000000\n",
       "mean      11.959294\n",
       "std        0.818252\n",
       "min       11.000000\n",
       "25%       11.000000\n",
       "50%       12.000000\n",
       "75%       13.000000\n",
       "max       13.000000\n",
       "Name: CHW Tout, C, dtype: float64"
      ]
     },
     "execution_count": 359,
     "metadata": {},
     "output_type": "execute_result"
    }
   ],
   "source": [
    "df['CHW Tout, C'].describe()"
   ]
  },
  {
   "cell_type": "code",
   "execution_count": 360,
   "metadata": {},
   "outputs": [
    {
     "data": {
      "text/plain": [
       "<matplotlib.axes._subplots.AxesSubplot at 0x17fa3b22088>"
      ]
     },
     "execution_count": 360,
     "metadata": {},
     "output_type": "execute_result"
    },
    {
     "data": {
      "image/png": "[encoded data removed]",
      "text/plain": [
       "<Figure size 432x288 with 1 Axes>"
      ]
     },
     "metadata": {
      "needs_background": "light"
     },
     "output_type": "display_data"
    }
   ],
   "source": [
    "sns.boxplot(x=df['CHW Tout, C'])"
   ]
  },
  {
   "cell_type": "code",
   "execution_count": 361,
   "metadata": {},
   "outputs": [],
   "source": [
    "l=df.columns"
   ]
  },
  {
   "cell_type": "code",
   "execution_count": 362,
   "metadata": {},
   "outputs": [
    {
     "data": {
      "text/plain": [
       "Index(['CHW Tin, C', 'CHW Tout, C', 'CHW Valve Position, %', 'CHW FR, L/s',\n",
       "       'SA Fan Frequency, Hz', 'RA Fan Frequency, Hz', 'SA T, C', 'SA FR, L/s',\n",
       "       'RA FR, L/s', 'SA Duct St Pressure, Pa', 'VAV-1 FR, L/s',\n",
       "       'VAV-2 FR, L/s', 'VAV-3 FR, L/s', 'VAV-4 FR, L/s', 'OA FR, L/s',\n",
       "       'OA Damper Open, %', 'Space, CO2', 'Space RH, RH', 'Space T, C',\n",
       "       'OA T, C', 'OAT RH, RH', 'AHU COP', 'Total Power, KW',\n",
       "       'Norm Energy Monthly, Kw-Hr'],\n",
       "      dtype='object')"
      ]
     },
     "execution_count": 362,
     "metadata": {},
     "output_type": "execute_result"
    }
   ],
   "source": [
    "l"
   ]
  },
  {
   "cell_type": "code",
   "execution_count": 363,
   "metadata": {},
   "outputs": [
    {
     "data": {
      "text/plain": [
       "count    737.000000\n",
       "mean      99.763908\n",
       "std       57.644890\n",
       "min        0.000000\n",
       "25%       52.000000\n",
       "50%       96.000000\n",
       "75%      150.000000\n",
       "max      200.000000\n",
       "Name: CHW FR, L/s, dtype: float64"
      ]
     },
     "execution_count": 363,
     "metadata": {},
     "output_type": "execute_result"
    }
   ],
   "source": [
    "df[l[3]].describe()"
   ]
  },
  {
   "cell_type": "code",
   "execution_count": 364,
   "metadata": {},
   "outputs": [
    {
     "data": {
      "text/plain": [
       "<matplotlib.axes._subplots.AxesSubplot at 0x17fa557b1c8>"
      ]
     },
     "execution_count": 364,
     "metadata": {},
     "output_type": "execute_result"
    },
    {
     "data": {
      "image/png": "[encoded data removed]",
      "text/plain": [
       "<Figure size 432x288 with 1 Axes>"
      ]
     },
     "metadata": {
      "needs_background": "light"
     },
     "output_type": "display_data"
    }
   ],
   "source": [
    "sns.boxplot(x=df[l[3]])"
   ]
  },
  {
   "cell_type": "code",
   "execution_count": 365,
   "metadata": {},
   "outputs": [
    {
     "data": {
      "text/plain": [
       "count    737.000000\n",
       "mean      50.104478\n",
       "std        6.232253\n",
       "min       40.000000\n",
       "25%       45.000000\n",
       "50%       51.000000\n",
       "75%       55.000000\n",
       "max       60.000000\n",
       "Name: SA Fan Frequency, Hz, dtype: float64"
      ]
     },
     "execution_count": 365,
     "metadata": {},
     "output_type": "execute_result"
    }
   ],
   "source": [
    "df[l[4]].describe()"
   ]
  },
  {
   "cell_type": "code",
   "execution_count": 366,
   "metadata": {},
   "outputs": [
    {
     "data": {
      "text/plain": [
       "<matplotlib.axes._subplots.AxesSubplot at 0x17fa50ff2c8>"
      ]
     },
     "execution_count": 366,
     "metadata": {},
     "output_type": "execute_result"
    },
    {
     "data": {
      "image/png": "[encoded data removed]",
      "text/plain": [
       "<Figure size 432x288 with 1 Axes>"
      ]
     },
     "metadata": {
      "needs_background": "light"
     },
     "output_type": "display_data"
    }
   ],
   "source": [
    "sns.boxplot(x=df[l[4]])"
   ]
  },
  {
   "cell_type": "code",
   "execution_count": 367,
   "metadata": {},
   "outputs": [
    {
     "data": {
      "text/plain": [
       "count    737.000000\n",
       "mean      49.698779\n",
       "std        6.128729\n",
       "min       40.000000\n",
       "25%       44.000000\n",
       "50%       49.000000\n",
       "75%       55.000000\n",
       "max       60.000000\n",
       "Name: RA Fan Frequency, Hz, dtype: float64"
      ]
     },
     "execution_count": 367,
     "metadata": {},
     "output_type": "execute_result"
    }
   ],
   "source": [
    "df[l[5]].describe()"
   ]
  },
  {
   "cell_type": "code",
   "execution_count": 368,
   "metadata": {},
   "outputs": [
    {
     "data": {
      "text/plain": [
       "<matplotlib.axes._subplots.AxesSubplot at 0x17fa50ffc88>"
      ]
     },
     "execution_count": 368,
     "metadata": {},
     "output_type": "execute_result"
    },
    {
     "data": {
      "image/png": "[encoded data removed]",
      "text/plain": [
       "<Figure size 432x288 with 1 Axes>"
      ]
     },
     "metadata": {
      "needs_background": "light"
     },
     "output_type": "display_data"
    }
   ],
   "source": [
    "sns.boxplot(x=df[l[5]])"
   ]
  },
  {
   "cell_type": "code",
   "execution_count": 369,
   "metadata": {},
   "outputs": [
    {
     "data": {
      "text/plain": [
       "count    737.000000\n",
       "mean      12.464043\n",
       "std        0.499044\n",
       "min       12.000000\n",
       "25%       12.000000\n",
       "50%       12.000000\n",
       "75%       13.000000\n",
       "max       13.000000\n",
       "Name: SA T, C, dtype: float64"
      ]
     },
     "execution_count": 369,
     "metadata": {},
     "output_type": "execute_result"
    }
   ],
   "source": [
    "df[l[6]].describe()"
   ]
  },
  {
   "cell_type": "code",
   "execution_count": 370,
   "metadata": {},
   "outputs": [
    {
     "data": {
      "text/plain": [
       "<matplotlib.axes._subplots.AxesSubplot at 0x17fa38d4348>"
      ]
     },
     "execution_count": 370,
     "metadata": {},
     "output_type": "execute_result"
    },
    {
     "data": {
      "image/png": "[encoded data removed]",
      "text/plain": [
       "<Figure size 432x288 with 1 Axes>"
      ]
     },
     "metadata": {
      "needs_background": "light"
     },
     "output_type": "display_data"
    }
   ],
   "source": [
    "sns.boxplot(x=df[l[6]])"
   ]
  },
  {
   "cell_type": "code",
   "execution_count": 371,
   "metadata": {},
   "outputs": [
    {
     "data": {
      "text/plain": [
       "count     737.000000\n",
       "mean      800.002714\n",
       "std       114.021082\n",
       "min       600.000000\n",
       "25%       702.000000\n",
       "50%       794.000000\n",
       "75%       901.000000\n",
       "max      1000.000000\n",
       "Name: SA FR, L/s, dtype: float64"
      ]
     },
     "execution_count": 371,
     "metadata": {},
     "output_type": "execute_result"
    }
   ],
   "source": [
    "df[l[7]].describe()"
   ]
  },
  {
   "cell_type": "code",
   "execution_count": 372,
   "metadata": {},
   "outputs": [
    {
     "data": {
      "text/plain": [
       "<matplotlib.axes._subplots.AxesSubplot at 0x17fa38bda48>"
      ]
     },
     "execution_count": 372,
     "metadata": {},
     "output_type": "execute_result"
    },
    {
     "data": {
      "image/png": "[encoded data removed]",
      "text/plain": [
       "<Figure size 432x288 with 1 Axes>"
      ]
     },
     "metadata": {
      "needs_background": "light"
     },
     "output_type": "display_data"
    }
   ],
   "source": [
    "sns.boxplot(x=df[l[7]])"
   ]
  },
  {
   "cell_type": "code",
   "execution_count": 373,
   "metadata": {},
   "outputs": [
    {
     "data": {
      "text/plain": [
       "count    737.000000\n",
       "mean     595.822252\n",
       "std      116.519881\n",
       "min      400.000000\n",
       "25%      490.000000\n",
       "50%      586.000000\n",
       "75%      696.000000\n",
       "max      800.000000\n",
       "Name: RA FR, L/s, dtype: float64"
      ]
     },
     "execution_count": 373,
     "metadata": {},
     "output_type": "execute_result"
    }
   ],
   "source": [
    "df[l[8]].describe()"
   ]
  },
  {
   "cell_type": "code",
   "execution_count": 374,
   "metadata": {},
   "outputs": [
    {
     "data": {
      "text/plain": [
       "<matplotlib.axes._subplots.AxesSubplot at 0x17fa532f408>"
      ]
     },
     "execution_count": 374,
     "metadata": {},
     "output_type": "execute_result"
    },
    {
     "data": {
      "image/png": "[encoded data removed]",
      "text/plain": [
       "<Figure size 432x288 with 1 Axes>"
      ]
     },
     "metadata": {
      "needs_background": "light"
     },
     "output_type": "display_data"
    }
   ],
   "source": [
    "sns.boxplot(x=df[l[8]])"
   ]
  },
  {
   "cell_type": "code",
   "execution_count": 375,
   "metadata": {},
   "outputs": [
    {
     "data": {
      "text/plain": [
       "count    737.000000\n",
       "mean     100.109905\n",
       "std        6.148314\n",
       "min       90.000000\n",
       "25%       95.000000\n",
       "50%      100.000000\n",
       "75%      105.000000\n",
       "max      110.000000\n",
       "Name: SA Duct St Pressure, Pa, dtype: float64"
      ]
     },
     "execution_count": 375,
     "metadata": {},
     "output_type": "execute_result"
    }
   ],
   "source": [
    "df[l[9]].describe()"
   ]
  },
  {
   "cell_type": "code",
   "execution_count": 376,
   "metadata": {},
   "outputs": [
    {
     "data": {
      "text/plain": [
       "<matplotlib.axes._subplots.AxesSubplot at 0x17fa38cee08>"
      ]
     },
     "execution_count": 376,
     "metadata": {},
     "output_type": "execute_result"
    },
    {
     "data": {
      "image/png": "[encoded data removed]",
      "text/plain": [
       "<Figure size 432x288 with 1 Axes>"
      ]
     },
     "metadata": {
      "needs_background": "light"
     },
     "output_type": "display_data"
    }
   ],
   "source": [
    "sns.boxplot(x=df[l[9]])"
   ]
  },
  {
   "cell_type": "code",
   "execution_count": 377,
   "metadata": {},
   "outputs": [
    {
     "data": {
      "text/plain": [
       "count    737.000000\n",
       "mean     249.864315\n",
       "std       30.587553\n",
       "min      200.000000\n",
       "25%      221.000000\n",
       "50%      249.000000\n",
       "75%      278.000000\n",
       "max      300.000000\n",
       "Name: VAV-1 FR, L/s, dtype: float64"
      ]
     },
     "execution_count": 377,
     "metadata": {},
     "output_type": "execute_result"
    }
   ],
   "source": [
    "df[l[10]].describe()"
   ]
  },
  {
   "cell_type": "code",
   "execution_count": 378,
   "metadata": {},
   "outputs": [
    {
     "data": {
      "text/plain": [
       "<matplotlib.axes._subplots.AxesSubplot at 0x17fa561ad08>"
      ]
     },
     "execution_count": 378,
     "metadata": {},
     "output_type": "execute_result"
    },
    {
     "data": {
      "image/png": "[encoded data removed]",
      "text/plain": [
       "<Figure size 432x288 with 1 Axes>"
      ]
     },
     "metadata": {
      "needs_background": "light"
     },
     "output_type": "display_data"
    }
   ],
   "source": [
    "sns.boxplot(x=df[l[10]])"
   ]
  },
  {
   "cell_type": "code",
   "execution_count": 379,
   "metadata": {},
   "outputs": [
    {
     "data": {
      "text/plain": [
       "count    737.000000\n",
       "mean     249.120760\n",
       "std       29.005393\n",
       "min      200.000000\n",
       "25%      225.000000\n",
       "50%      248.000000\n",
       "75%      275.000000\n",
       "max      300.000000\n",
       "Name: VAV-2 FR, L/s, dtype: float64"
      ]
     },
     "execution_count": 379,
     "metadata": {},
     "output_type": "execute_result"
    }
   ],
   "source": [
    "df[l[11]].describe()"
   ]
  },
  {
   "cell_type": "code",
   "execution_count": 380,
   "metadata": {},
   "outputs": [
    {
     "data": {
      "text/plain": [
       "<matplotlib.axes._subplots.AxesSubplot at 0x17fa561a4c8>"
      ]
     },
     "execution_count": 380,
     "metadata": {},
     "output_type": "execute_result"
    },
    {
     "data": {
      "image/png": "[encoded data removed]",
      "text/plain": [
       "<Figure size 432x288 with 1 Axes>"
      ]
     },
     "metadata": {
      "needs_background": "light"
     },
     "output_type": "display_data"
    }
   ],
   "source": [
    "sns.boxplot(x=df[l[11]])"
   ]
  },
  {
   "cell_type": "code",
   "execution_count": 381,
   "metadata": {},
   "outputs": [
    {
     "data": {
      "text/plain": [
       "count    737.000000\n",
       "mean     249.734057\n",
       "std       29.429445\n",
       "min      200.000000\n",
       "25%      224.000000\n",
       "50%      251.000000\n",
       "75%      275.000000\n",
       "max      300.000000\n",
       "Name: VAV-3 FR, L/s, dtype: float64"
      ]
     },
     "execution_count": 381,
     "metadata": {},
     "output_type": "execute_result"
    }
   ],
   "source": [
    "df[l[12]].describe()"
   ]
  },
  {
   "cell_type": "code",
   "execution_count": 382,
   "metadata": {},
   "outputs": [
    {
     "data": {
      "text/plain": [
       "<matplotlib.axes._subplots.AxesSubplot at 0x17fa39bf088>"
      ]
     },
     "execution_count": 382,
     "metadata": {},
     "output_type": "execute_result"
    },
    {
     "data": {
      "image/png": "[encoded data removed]",
      "text/plain": [
       "<Figure size 432x288 with 1 Axes>"
      ]
     },
     "metadata": {
      "needs_background": "light"
     },
     "output_type": "display_data"
    }
   ],
   "source": [
    "sns.boxplot(x=df[l[12]])"
   ]
  },
  {
   "cell_type": "code",
   "execution_count": 383,
   "metadata": {},
   "outputs": [
    {
     "data": {
      "text/plain": [
       "count    737.000000\n",
       "mean     250.322931\n",
       "std       29.258015\n",
       "min      200.000000\n",
       "25%      225.000000\n",
       "50%      250.000000\n",
       "75%      275.000000\n",
       "max      300.000000\n",
       "Name: VAV-4 FR, L/s, dtype: float64"
      ]
     },
     "execution_count": 383,
     "metadata": {},
     "output_type": "execute_result"
    }
   ],
   "source": [
    "df[l[13]].describe()"
   ]
  },
  {
   "cell_type": "code",
   "execution_count": 384,
   "metadata": {},
   "outputs": [
    {
     "data": {
      "text/plain": [
       "<matplotlib.axes._subplots.AxesSubplot at 0x17fa39f77c8>"
      ]
     },
     "execution_count": 384,
     "metadata": {},
     "output_type": "execute_result"
    },
    {
     "data": {
      "image/png": "[encoded data removed]",
      "text/plain": [
       "<Figure size 432x288 with 1 Axes>"
      ]
     },
     "metadata": {
      "needs_background": "light"
     },
     "output_type": "display_data"
    }
   ],
   "source": [
    "sns.boxplot(x=df[l[13]])\n"
   ]
  },
  {
   "cell_type": "code",
   "execution_count": 385,
   "metadata": {},
   "outputs": [
    {
     "data": {
      "text/plain": [
       "count    737.000000\n",
       "mean     249.267300\n",
       "std       29.151691\n",
       "min      200.000000\n",
       "25%      224.000000\n",
       "50%      248.000000\n",
       "75%      274.000000\n",
       "max      300.000000\n",
       "Name: OA FR, L/s, dtype: float64"
      ]
     },
     "execution_count": 385,
     "metadata": {},
     "output_type": "execute_result"
    }
   ],
   "source": [
    "df[l[14]].describe()"
   ]
  },
  {
   "cell_type": "code",
   "execution_count": 386,
   "metadata": {},
   "outputs": [
    {
     "data": {
      "text/plain": [
       "<matplotlib.axes._subplots.AxesSubplot at 0x17fa39b3e08>"
      ]
     },
     "execution_count": 386,
     "metadata": {},
     "output_type": "execute_result"
    },
    {
     "data": {
      "image/png": "[encoded data removed]",
      "text/plain": [
       "<Figure size 432x288 with 1 Axes>"
      ]
     },
     "metadata": {
      "needs_background": "light"
     },
     "output_type": "display_data"
    }
   ],
   "source": [
    "sns.boxplot(x=df[l[14]])"
   ]
  },
  {
   "cell_type": "code",
   "execution_count": 387,
   "metadata": {},
   "outputs": [
    {
     "data": {
      "text/plain": [
       "count    737.000000\n",
       "mean      14.689281\n",
       "std        9.038252\n",
       "min        0.000000\n",
       "25%        6.000000\n",
       "50%       15.000000\n",
       "75%       23.000000\n",
       "max       30.000000\n",
       "Name: OA Damper Open, %, dtype: float64"
      ]
     },
     "execution_count": 387,
     "metadata": {},
     "output_type": "execute_result"
    }
   ],
   "source": [
    "df[l[15]].describe()"
   ]
  },
  {
   "cell_type": "code",
   "execution_count": 388,
   "metadata": {},
   "outputs": [
    {
     "data": {
      "text/plain": [
       "<matplotlib.axes._subplots.AxesSubplot at 0x17fa3a8dcc8>"
      ]
     },
     "execution_count": 388,
     "metadata": {},
     "output_type": "execute_result"
    },
    {
     "data": {
      "image/png": "[encoded data removed]",
      "text/plain": [
       "<Figure size 432x288 with 1 Axes>"
      ]
     },
     "metadata": {
      "needs_background": "light"
     },
     "output_type": "display_data"
    }
   ],
   "source": [
    "sns.boxplot(x=df[l[15]])"
   ]
  },
  {
   "cell_type": "code",
   "execution_count": 389,
   "metadata": {},
   "outputs": [
    {
     "data": {
      "text/plain": [
       "count     737.000000\n",
       "mean     1380.649932\n",
       "std       563.533786\n",
       "min       401.000000\n",
       "25%       900.000000\n",
       "50%      1364.000000\n",
       "75%      1862.000000\n",
       "max      2398.000000\n",
       "Name: Space, CO2, dtype: float64"
      ]
     },
     "execution_count": 389,
     "metadata": {},
     "output_type": "execute_result"
    }
   ],
   "source": [
    "df[l[16]].describe()"
   ]
  },
  {
   "cell_type": "code",
   "execution_count": 390,
   "metadata": {},
   "outputs": [
    {
     "data": {
      "text/plain": [
       "<matplotlib.axes._subplots.AxesSubplot at 0x17fa3a1b188>"
      ]
     },
     "execution_count": 390,
     "metadata": {},
     "output_type": "execute_result"
    },
    {
     "data": {
      "image/png": "[encoded data removed]",
      "text/plain": [
       "<Figure size 432x288 with 1 Axes>"
      ]
     },
     "metadata": {
      "needs_background": "light"
     },
     "output_type": "display_data"
    }
   ],
   "source": [
    "sns.boxplot(x=df[l[16]])"
   ]
  },
  {
   "cell_type": "code",
   "execution_count": 391,
   "metadata": {},
   "outputs": [
    {
     "data": {
      "text/plain": [
       "count    737.000000\n",
       "mean      50.371777\n",
       "std        8.969463\n",
       "min       35.000000\n",
       "25%       43.000000\n",
       "50%       51.000000\n",
       "75%       58.000000\n",
       "max       65.000000\n",
       "Name: Space RH, RH, dtype: float64"
      ]
     },
     "execution_count": 391,
     "metadata": {},
     "output_type": "execute_result"
    }
   ],
   "source": [
    "df[l[17]].describe()"
   ]
  },
  {
   "cell_type": "code",
   "execution_count": 392,
   "metadata": {},
   "outputs": [
    {
     "data": {
      "text/plain": [
       "<matplotlib.axes._subplots.AxesSubplot at 0x17fa53a9f88>"
      ]
     },
     "execution_count": 392,
     "metadata": {},
     "output_type": "execute_result"
    },
    {
     "data": {
      "image/png": "[encoded data removed]",
      "text/plain": [
       "<Figure size 432x288 with 1 Axes>"
      ]
     },
     "metadata": {
      "needs_background": "light"
     },
     "output_type": "display_data"
    }
   ],
   "source": [
    "sns.boxplot(x=df[l[17]])"
   ]
  },
  {
   "cell_type": "code",
   "execution_count": 393,
   "metadata": {},
   "outputs": [
    {
     "data": {
      "text/plain": [
       "count    737.000000\n",
       "mean      22.974220\n",
       "std        0.829574\n",
       "min       22.000000\n",
       "25%       22.000000\n",
       "50%       23.000000\n",
       "75%       24.000000\n",
       "max       24.000000\n",
       "Name: Space T, C, dtype: float64"
      ]
     },
     "execution_count": 393,
     "metadata": {},
     "output_type": "execute_result"
    }
   ],
   "source": [
    "df[l[18]].describe()"
   ]
  },
  {
   "cell_type": "code",
   "execution_count": 394,
   "metadata": {},
   "outputs": [
    {
     "data": {
      "text/plain": [
       "<matplotlib.axes._subplots.AxesSubplot at 0x17fa5407c08>"
      ]
     },
     "execution_count": 394,
     "metadata": {},
     "output_type": "execute_result"
    },
    {
     "data": {
      "image/png": "[encoded data removed]",
      "text/plain": [
       "<Figure size 432x288 with 1 Axes>"
      ]
     },
     "metadata": {
      "needs_background": "light"
     },
     "output_type": "display_data"
    }
   ],
   "source": [
    "sns.boxplot(x=df[l[18]])"
   ]
  },
  {
   "cell_type": "code",
   "execution_count": 395,
   "metadata": {},
   "outputs": [
    {
     "data": {
      "text/plain": [
       "count    737.000000\n",
       "mean      29.830393\n",
       "std        5.987283\n",
       "min       20.000000\n",
       "25%       25.000000\n",
       "50%       30.000000\n",
       "75%       35.000000\n",
       "max       40.000000\n",
       "Name: OA T, C, dtype: float64"
      ]
     },
     "execution_count": 395,
     "metadata": {},
     "output_type": "execute_result"
    }
   ],
   "source": [
    "df[l[19]].describe()"
   ]
  },
  {
   "cell_type": "code",
   "execution_count": 396,
   "metadata": {},
   "outputs": [
    {
     "data": {
      "text/plain": [
       "<matplotlib.axes._subplots.AxesSubplot at 0x17fa54b60c8>"
      ]
     },
     "execution_count": 396,
     "metadata": {},
     "output_type": "execute_result"
    },
    {
     "data": {
      "image/png": "[encoded data removed]",
      "text/plain": [
       "<Figure size 432x288 with 1 Axes>"
      ]
     },
     "metadata": {
      "needs_background": "light"
     },
     "output_type": "display_data"
    }
   ],
   "source": [
    "sns.boxplot(x=df[l[19]])"
   ]
  },
  {
   "cell_type": "code",
   "execution_count": 397,
   "metadata": {},
   "outputs": [
    {
     "data": {
      "text/plain": [
       "count    737.000000\n",
       "mean      50.603799\n",
       "std        9.053608\n",
       "min       35.000000\n",
       "25%       43.000000\n",
       "50%       51.000000\n",
       "75%       58.000000\n",
       "max       65.000000\n",
       "Name: OAT RH, RH, dtype: float64"
      ]
     },
     "execution_count": 397,
     "metadata": {},
     "output_type": "execute_result"
    }
   ],
   "source": [
    "df[l[20]].describe()"
   ]
  },
  {
   "cell_type": "code",
   "execution_count": 398,
   "metadata": {},
   "outputs": [
    {
     "data": {
      "text/plain": [
       "<matplotlib.axes._subplots.AxesSubplot at 0x17fa53bad88>"
      ]
     },
     "execution_count": 398,
     "metadata": {},
     "output_type": "execute_result"
    },
    {
     "data": {
      "image/png": "[encoded data removed]",
      "text/plain": [
       "<Figure size 432x288 with 1 Axes>"
      ]
     },
     "metadata": {
      "needs_background": "light"
     },
     "output_type": "display_data"
    }
   ],
   "source": [
    "sns.boxplot(x=df[l[20]])"
   ]
  },
  {
   "cell_type": "code",
   "execution_count": 399,
   "metadata": {},
   "outputs": [
    {
     "data": {
      "text/plain": [
       "count    737.000000\n",
       "mean       2.990502\n",
       "std        1.427093\n",
       "min        1.000000\n",
       "25%        2.000000\n",
       "50%        3.000000\n",
       "75%        4.000000\n",
       "max        5.000000\n",
       "Name: AHU COP, dtype: float64"
      ]
     },
     "execution_count": 399,
     "metadata": {},
     "output_type": "execute_result"
    }
   ],
   "source": [
    "df[l[21]].describe()"
   ]
  },
  {
   "cell_type": "code",
   "execution_count": 400,
   "metadata": {},
   "outputs": [
    {
     "data": {
      "text/plain": [
       "<matplotlib.axes._subplots.AxesSubplot at 0x17fa58dab88>"
      ]
     },
     "execution_count": 400,
     "metadata": {},
     "output_type": "execute_result"
    },
    {
     "data": {
      "image/png": "[encoded data removed]",
      "text/plain": [
       "<Figure size 432x288 with 1 Axes>"
      ]
     },
     "metadata": {
      "needs_background": "light"
     },
     "output_type": "display_data"
    }
   ],
   "source": [
    "sns.boxplot(x=df[l[21]])"
   ]
  },
  {
   "cell_type": "code",
   "execution_count": 401,
   "metadata": {},
   "outputs": [
    {
     "data": {
      "text/plain": [
       "count     737.000000\n",
       "mean      800.245590\n",
       "std       120.021265\n",
       "min       600.000000\n",
       "25%       690.000000\n",
       "50%       806.000000\n",
       "75%       907.000000\n",
       "max      1000.000000\n",
       "Name: Total Power, KW, dtype: float64"
      ]
     },
     "execution_count": 401,
     "metadata": {},
     "output_type": "execute_result"
    }
   ],
   "source": [
    "df[l[22]].describe()"
   ]
  },
  {
   "cell_type": "code",
   "execution_count": 402,
   "metadata": {},
   "outputs": [
    {
     "data": {
      "text/plain": [
       "<matplotlib.axes._subplots.AxesSubplot at 0x17fa591ff48>"
      ]
     },
     "execution_count": 402,
     "metadata": {},
     "output_type": "execute_result"
    },
    {
     "data": {
      "image/png": "[encoded data removed]",
      "text/plain": [
       "<Figure size 432x288 with 1 Axes>"
      ]
     },
     "metadata": {
      "needs_background": "light"
     },
     "output_type": "display_data"
    }
   ],
   "source": [
    "sns.boxplot(x=df[l[22]])"
   ]
  },
  {
   "cell_type": "code",
   "execution_count": 403,
   "metadata": {},
   "outputs": [
    {
     "data": {
      "text/plain": [
       "count       737.000000\n",
       "mean     210084.185889\n",
       "std        7931.719036\n",
       "min      196005.000000\n",
       "25%      203260.000000\n",
       "50%      210272.000000\n",
       "75%      216930.000000\n",
       "max      223926.000000\n",
       "Name: Norm Energy Monthly, Kw-Hr, dtype: float64"
      ]
     },
     "execution_count": 403,
     "metadata": {},
     "output_type": "execute_result"
    }
   ],
   "source": [
    "df[l[23]].describe()"
   ]
  },
  {
   "cell_type": "code",
   "execution_count": 404,
   "metadata": {},
   "outputs": [
    {
     "data": {
      "text/plain": [
       "<matplotlib.axes._subplots.AxesSubplot at 0x17fa76bdd08>"
      ]
     },
     "execution_count": 404,
     "metadata": {},
     "output_type": "execute_result"
    },
    {
     "data": {
      "image/png": "[encoded data removed]",
      "text/plain": [
       "<Figure size 432x288 with 1 Axes>"
      ]
     },
     "metadata": {
      "needs_background": "light"
     },
     "output_type": "display_data"
    }
   ],
   "source": [
    "sns.boxplot(x=df[l[23]])"
   ]
  },
  {
   "cell_type": "code",
   "execution_count": null,
   "metadata": {},
   "outputs": [],
   "source": []
  }
 ],
 "metadata": {
  "kernelspec": {
   "display_name": "Python 3",
   "language": "python",
   "name": "python3"
  },
  "language_info": {
   "codemirror_mode": {
    "name": "ipython",
    "version": 3
   },
   "file_extension": ".py",
   "mimetype": "text/x-python",
   "name": "python",
   "nbconvert_exporter": "python",
   "pygments_lexer": "ipython3",
   "version": "3.7.3"
  }
 },
 "nbformat": 4,
 "nbformat_minor": 2
}
